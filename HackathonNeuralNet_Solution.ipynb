{
  "nbformat": 4,
  "nbformat_minor": 0,
  "metadata": {
    "kernelspec": {
      "display_name": "Python 3",
      "language": "python",
      "name": "python3"
    },
    "language_info": {
      "codemirror_mode": {
        "name": "ipython",
        "version": 3
      },
      "file_extension": ".py",
      "mimetype": "text/x-python",
      "name": "python",
      "nbconvert_exporter": "python",
      "pygments_lexer": "ipython3",
      "version": "3.7.3"
    },
    "colab": {
      "name": "Hackathon13_neuralNets.ipynb",
      "provenance": [],
      "collapsed_sections": []
    }
  },
  "cells": [
    {
      "cell_type": "markdown",
      "metadata": {
        "id": "l9O9BxukoFOq",
        "colab_type": "text"
      },
      "source": [
        "# Imports"
      ]
    },
    {
      "cell_type": "code",
      "metadata": {
        "id": "Frqc1szCso3k",
        "colab_type": "code",
        "colab": {}
      },
      "source": [
        "#!pip install tensorflow-gpu"
      ],
      "execution_count": 0,
      "outputs": []
    },
    {
      "cell_type": "code",
      "metadata": {
        "id": "TqsZIVCSoFOr",
        "colab_type": "code",
        "colab": {}
      },
      "source": [
        "import pandas as pd\n",
        "import numpy as np\n",
        "from functools import reduce\n",
        "import seaborn as sns\n",
        "import matplotlib.pyplot as plt\n",
        "from sklearn.model_selection import RandomizedSearchCV, GridSearchCV\n",
        "from sklearn.preprocessing import StandardScaler\n",
        "import xgboost as xgb\n",
        "from sklearn.model_selection import cross_val_score, KFold\n",
        "import string\n",
        "from sklearn.preprocessing import LabelEncoder\n",
        "from sklearn.svm import SVC\n",
        "from sklearn.feature_selection import SelectKBest\n",
        "from sklearn.feature_selection import chi2\n",
        "from sklearn.model_selection import train_test_split\n",
        "from sklearn.decomposition import PCA\n",
        "import datetime"
      ],
      "execution_count": 0,
      "outputs": []
    },
    {
      "cell_type": "code",
      "metadata": {
        "id": "6DYjIIAfsl_Y",
        "colab_type": "code",
        "colab": {}
      },
      "source": [
        "import tensorflow as tf\n",
        "from tensorflow import keras\n",
        "\n",
        "from tensorflow.keras.models import Sequential\n",
        "from tensorflow.keras.layers import Dense, Dropout\n",
        "from tensorflow.keras.optimizers import RMSprop\n",
        "from tensorflow.keras.layers import LeakyReLU\n",
        "\n",
        "from tensorflow.keras.callbacks import EarlyStopping\n",
        "from tensorflow.keras.layers import BatchNormalization\n",
        "print(tf.__version__)"
      ],
      "execution_count": 0,
      "outputs": []
    },
    {
      "cell_type": "code",
      "metadata": {
        "id": "yW5QcFtCobCh",
        "colab_type": "code",
        "colab": {}
      },
      "source": [
        "from google.colab import drive\n",
        "drive.mount(\"/gdrive\")"
      ],
      "execution_count": 0,
      "outputs": []
    },
    {
      "cell_type": "markdown",
      "metadata": {
        "id": "5zoDTnjGoFOv",
        "colab_type": "text"
      },
      "source": [
        "# Read csv file"
      ]
    },
    {
      "cell_type": "code",
      "metadata": {
        "id": "ku8ucN2OoFOv",
        "colab_type": "code",
        "colab": {}
      },
      "source": [
        "bond_ratings_df = pd.read_csv(\"/gdrive/My Drive/Colab Notebooks/Hackathon/bond_ratings.csv\")\n",
        "fund_allocations_df = pd.read_csv(\"/gdrive/My Drive/Colab Notebooks/Hackathon/fund_allocations.csv\")\n",
        "fund_config_df = pd.read_csv(\"/gdrive/My Drive/Colab Notebooks/Hackathon/fund_config.csv\")\n",
        "fund_ratios_df = pd.read_csv(\"/gdrive/My Drive/Colab Notebooks/Hackathon/fund_ratios.csv\")\n",
        "fund_specs_df = pd.read_csv(\"/gdrive/My Drive/Colab Notebooks/Hackathon/fund_specs.csv\")\n",
        "other_specs_df = pd.read_csv(\"/gdrive/My Drive/Colab Notebooks/Hackathon/other_specs.csv\")\n",
        "return_3year_df = pd.read_csv(\"/gdrive/My Drive/Colab Notebooks/Hackathon/return_3year.csv\")\n",
        "return_5year_df = pd.read_csv(\"/gdrive/My Drive/Colab Notebooks/Hackathon/return_5year.csv\")\n",
        "return_10year_df = pd.read_csv(\"/gdrive/My Drive/Colab Notebooks/Hackathon/return_10year.csv\")\n",
        "submission_df = pd.read_csv(\"/gdrive/My Drive/Colab Notebooks/Hackathon/sample_submission.csv\")"
      ],
      "execution_count": 0,
      "outputs": []
    },
    {
      "cell_type": "markdown",
      "metadata": {
        "id": "XTykdZVqoFOx",
        "colab_type": "text"
      },
      "source": [
        "# bond_ratings_df"
      ]
    },
    {
      "cell_type": "code",
      "metadata": {
        "id": "71vcJk28oFOy",
        "colab_type": "code",
        "colab": {}
      },
      "source": [
        "#bond_ratings_df.info()"
      ],
      "execution_count": 0,
      "outputs": []
    },
    {
      "cell_type": "code",
      "metadata": {
        "id": "svqOo4LmoFO1",
        "colab_type": "code",
        "colab": {}
      },
      "source": [
        "#bond_ratings_df.describe().T"
      ],
      "execution_count": 0,
      "outputs": []
    },
    {
      "cell_type": "markdown",
      "metadata": {
        "id": "XGwf09zIoFO3",
        "colab_type": "text"
      },
      "source": [
        "#### Drop \"us_govt_bond_rating\" column because all value is zero."
      ]
    },
    {
      "cell_type": "code",
      "metadata": {
        "id": "6k9fP_LWoFO3",
        "colab_type": "code",
        "colab": {}
      },
      "source": [
        "bond_ratings_df.drop(labels = ['us_govt_bond_rating'], axis=1, inplace=True)\n",
        "bond_ratings_df.info()"
      ],
      "execution_count": 0,
      "outputs": []
    },
    {
      "cell_type": "code",
      "metadata": {
        "id": "VAPoF2sKoFO6",
        "colab_type": "code",
        "colab": {}
      },
      "source": [
        "#bond_ratings_df.hist(figsize=(15,10), bins=50)"
      ],
      "execution_count": 0,
      "outputs": []
    },
    {
      "cell_type": "code",
      "metadata": {
        "id": "IhZnZaO4oFO8",
        "colab_type": "code",
        "colab": {}
      },
      "source": [
        "#For few columns median is zero hence fill NaN with mean\n",
        "for col in bond_ratings_df.columns:\n",
        "    if col != 'fund_id':\n",
        "        bond_ratings_df[col] = bond_ratings_df[col].fillna(bond_ratings_df[col].mean())\n",
        "        #bond_ratings_df[col] = bond_ratings_df[col].fillna(bond_ratings_df[col].median())\n",
        "\n",
        "#bond_ratings_df.isna().sum()"
      ],
      "execution_count": 0,
      "outputs": []
    },
    {
      "cell_type": "markdown",
      "metadata": {
        "id": "IsuDCgwjoFO-",
        "colab_type": "text"
      },
      "source": [
        "# fund_allocations_df"
      ]
    },
    {
      "cell_type": "code",
      "metadata": {
        "id": "59DoAFMKoFO_",
        "colab_type": "code",
        "colab": {}
      },
      "source": [
        "#fund_allocations_df.info()"
      ],
      "execution_count": 0,
      "outputs": []
    },
    {
      "cell_type": "code",
      "metadata": {
        "id": "77_5FaYdoFPB",
        "colab_type": "code",
        "colab": {}
      },
      "source": [
        "#fund_allocations_df.describe().T"
      ],
      "execution_count": 0,
      "outputs": []
    },
    {
      "cell_type": "code",
      "metadata": {
        "id": "cqkVc8FUoFPD",
        "colab_type": "code",
        "colab": {}
      },
      "source": [
        "#fund_allocations_df.hist(figsize=(15,10), bins=20)"
      ],
      "execution_count": 0,
      "outputs": []
    },
    {
      "cell_type": "code",
      "metadata": {
        "id": "h_Fg_LYaoFPF",
        "colab_type": "code",
        "colab": {}
      },
      "source": [
        "#Fill Nan with mean for non categorical variable\n",
        "for col in fund_allocations_df.columns:\n",
        "    if col != 'fund_id':\n",
        "        fund_allocations_df[col] = fund_allocations_df[col].fillna(fund_allocations_df[col].median())\n",
        "\n",
        "#fund_allocations_df.isna().sum()"
      ],
      "execution_count": 0,
      "outputs": []
    },
    {
      "cell_type": "code",
      "metadata": {
        "id": "ybaLhL_foFPH",
        "colab_type": "code",
        "colab": {}
      },
      "source": [
        "fund_allocations_df.rename(columns={'id':'tag'},inplace=True)"
      ],
      "execution_count": 0,
      "outputs": []
    },
    {
      "cell_type": "code",
      "metadata": {
        "id": "V0pHnoXsoFPJ",
        "colab_type": "code",
        "colab": {}
      },
      "source": [
        ""
      ],
      "execution_count": 0,
      "outputs": []
    },
    {
      "cell_type": "markdown",
      "metadata": {
        "id": "PdSRJR1RoFPL",
        "colab_type": "text"
      },
      "source": [
        "# fund_config_df"
      ]
    },
    {
      "cell_type": "code",
      "metadata": {
        "id": "jZfQixuRoFPL",
        "colab_type": "code",
        "colab": {}
      },
      "source": [
        "#fund_config_df.info()"
      ],
      "execution_count": 0,
      "outputs": []
    },
    {
      "cell_type": "code",
      "metadata": {
        "id": "stCRYK9woFPN",
        "colab_type": "code",
        "colab": {}
      },
      "source": [
        "print(\"Number of category: \",fund_config_df['category'].nunique())\n",
        "print(\"Number of parent_company: \",fund_config_df['parent_company'].nunique())\n",
        "print(\"Number of fund_name: \",fund_config_df['fund_name'].nunique())"
      ],
      "execution_count": 0,
      "outputs": []
    },
    {
      "cell_type": "code",
      "metadata": {
        "id": "0FHJygveoFPP",
        "colab_type": "code",
        "colab": {}
      },
      "source": [
        "fund_config_df.head()"
      ],
      "execution_count": 0,
      "outputs": []
    },
    {
      "cell_type": "markdown",
      "metadata": {
        "id": "dCWP-AKXoFPS",
        "colab_type": "text"
      },
      "source": [
        "### Apply label encoding: Lots of category present in fund_config_df, if one hot encoding is applied then final dataframe will be become sparse, hence first trying only with label encoding"
      ]
    },
    {
      "cell_type": "code",
      "metadata": {
        "id": "78-wbNEmoFPS",
        "colab_type": "code",
        "colab": {}
      },
      "source": [
        "labelencoder = LabelEncoder()\n",
        "fund_config_df['category'] = labelencoder.fit_transform(fund_config_df['category'])\n",
        "fund_config_df['parent_company'] = labelencoder.fit_transform(fund_config_df['parent_company'])\n",
        "fund_config_df['fund_name'] = labelencoder.fit_transform(fund_config_df['fund_name'])\n",
        "fund_config_df.head()"
      ],
      "execution_count": 0,
      "outputs": []
    },
    {
      "cell_type": "code",
      "metadata": {
        "id": "1-QVUeHXoFPU",
        "colab_type": "code",
        "colab": {}
      },
      "source": [
        "#fund_config_df.hist(figsize=(15,10), bins=50)"
      ],
      "execution_count": 0,
      "outputs": []
    },
    {
      "cell_type": "markdown",
      "metadata": {
        "id": "3j42JdptoFPW",
        "colab_type": "text"
      },
      "source": [
        "# fund_ratios_df"
      ]
    },
    {
      "cell_type": "code",
      "metadata": {
        "id": "drEXv7COoFPW",
        "colab_type": "code",
        "colab": {}
      },
      "source": [
        "#fund_ratios_df.info()"
      ],
      "execution_count": 0,
      "outputs": []
    },
    {
      "cell_type": "code",
      "metadata": {
        "id": "ACAkkD7ioFPY",
        "colab_type": "code",
        "colab": {}
      },
      "source": [
        "#fund_ratios_df.describe().T"
      ],
      "execution_count": 0,
      "outputs": []
    },
    {
      "cell_type": "code",
      "metadata": {
        "id": "B5Ru0tb1oFPZ",
        "colab_type": "code",
        "colab": {}
      },
      "source": [
        "# Change dtype from \"object\" to \"float\"\n",
        "for col in fund_ratios_df.select_dtypes(include='object').columns:\n",
        "    if col != 'fund_id':\n",
        "        fund_ratios_df[col] = fund_ratios_df[col].str.replace(',', '')\n",
        "        fund_ratios_df[col] = fund_ratios_df[col].astype(\"float64\")"
      ],
      "execution_count": 0,
      "outputs": []
    },
    {
      "cell_type": "code",
      "metadata": {
        "id": "Kx1uK_3ooFPb",
        "colab_type": "code",
        "colab": {}
      },
      "source": [
        "#fund_ratios_df.describe().T"
      ],
      "execution_count": 0,
      "outputs": []
    },
    {
      "cell_type": "code",
      "metadata": {
        "id": "EybBke6ZoFPd",
        "colab_type": "code",
        "colab": {}
      },
      "source": [
        "#Fill Nan with mean for non categorical variable\n",
        "for col in fund_ratios_df.columns:\n",
        "    if col != 'fund_id':\n",
        "        fund_ratios_df[col] = fund_ratios_df[col].fillna(fund_ratios_df[col].median())\n",
        "\n",
        "#fund_ratios_df.isna().sum()"
      ],
      "execution_count": 0,
      "outputs": []
    },
    {
      "cell_type": "code",
      "metadata": {
        "id": "5Dq-5-SloFPf",
        "colab_type": "code",
        "colab": {}
      },
      "source": [
        "#fund_ratios_df.hist(figsize=(15,10), bins=50)"
      ],
      "execution_count": 0,
      "outputs": []
    },
    {
      "cell_type": "markdown",
      "metadata": {
        "id": "kcemD_cYoFPh",
        "colab_type": "text"
      },
      "source": [
        "# fund_specs_df"
      ]
    },
    {
      "cell_type": "code",
      "metadata": {
        "id": "kqBkYgRSoFPh",
        "colab_type": "code",
        "colab": {}
      },
      "source": [
        "#fund_specs_df.info()"
      ],
      "execution_count": 0,
      "outputs": []
    },
    {
      "cell_type": "markdown",
      "metadata": {
        "id": "K-bMEX_eoFPj",
        "colab_type": "text"
      },
      "source": [
        "### Convert \"inception_date\""
      ]
    },
    {
      "cell_type": "code",
      "metadata": {
        "id": "u5aswyNcoFPk",
        "colab_type": "code",
        "colab": {}
      },
      "source": [
        "fund_specs_df['inception_date'] = pd.to_datetime(fund_specs_df['inception_date'])"
      ],
      "execution_count": 0,
      "outputs": []
    },
    {
      "cell_type": "markdown",
      "metadata": {
        "id": "zBrzrb0BoFPn",
        "colab_type": "text"
      },
      "source": [
        "### Get Month, day, year, quarter, semester from \"inception_date\""
      ]
    },
    {
      "cell_type": "code",
      "metadata": {
        "id": "vwiwSLx7oFPo",
        "colab_type": "code",
        "colab": {}
      },
      "source": [
        "fund_specs_df['Inception_Month'] = fund_specs_df['inception_date'].dt.month\n",
        "fund_specs_df['Inception_Day'] = fund_specs_df['inception_date'].dt.day\n",
        "fund_specs_df['Inception_Year'] = fund_specs_df['inception_date'].dt.year\n",
        "fund_specs_df['Dayofweek'] = fund_specs_df['inception_date'].dt.dayofweek"
      ],
      "execution_count": 0,
      "outputs": []
    },
    {
      "cell_type": "markdown",
      "metadata": {
        "id": "zX7A2TnSoFPq",
        "colab_type": "text"
      },
      "source": [
        "### Quarter and Semester"
      ]
    },
    {
      "cell_type": "code",
      "metadata": {
        "id": "eSMK2ptToFPq",
        "colab_type": "code",
        "colab": {}
      },
      "source": [
        "fund_specs_df['Quarter'] = fund_specs_df['inception_date'].dt.quarter\n",
        "fund_specs_df['Semester'] = np.where(fund_specs_df['Quarter'].isin([1,2]),1,2)"
      ],
      "execution_count": 0,
      "outputs": []
    },
    {
      "cell_type": "markdown",
      "metadata": {
        "id": "NTEyN-_IoFPs",
        "colab_type": "text"
      },
      "source": [
        "### Weekend or not"
      ]
    },
    {
      "cell_type": "code",
      "metadata": {
        "id": "_4HTLndxoFPs",
        "colab_type": "code",
        "colab": {}
      },
      "source": [
        "#fund_specs_df['Weekday_name'] = fund_specs_df['inception_date'].dt.weekday_name\n",
        "#fund_specs_df['is_weekend'] = np.where(fund_specs_df['Weekday_name'].isin(['Sunday','Saturday']),1,0)\n",
        "#fund_specs_df[['Weekday_name', \"is_weekend\"]].head()"
      ],
      "execution_count": 0,
      "outputs": []
    },
    {
      "cell_type": "code",
      "metadata": {
        "id": "TPrdGvnuoFPu",
        "colab_type": "code",
        "colab": {}
      },
      "source": [
        "#fund_specs_df['is_weekend'].value_counts()"
      ],
      "execution_count": 0,
      "outputs": []
    },
    {
      "cell_type": "markdown",
      "metadata": {
        "id": "LsyFCzUQoFPw",
        "colab_type": "text"
      },
      "source": [
        "### Difference between today and inception data"
      ]
    },
    {
      "cell_type": "code",
      "metadata": {
        "id": "90cR4b3moFPw",
        "colab_type": "code",
        "colab": {}
      },
      "source": [
        "fund_specs_df[\"InceptionDate_diff\"] = (datetime.datetime.today() - fund_specs_df['inception_date'])\n",
        "fund_specs_df[\"InceptionDate_diff\"] = fund_specs_df[\"InceptionDate_diff\"]/np.timedelta64(1,'D')"
      ],
      "execution_count": 0,
      "outputs": []
    },
    {
      "cell_type": "markdown",
      "metadata": {
        "id": "6LK7F_ww4Tvp",
        "colab_type": "text"
      },
      "source": [
        "### Apply one hot encoding"
      ]
    },
    {
      "cell_type": "code",
      "metadata": {
        "id": "DEhJynOa4XP7",
        "colab_type": "code",
        "colab": {}
      },
      "source": [
        "Inception_Month = pd.get_dummies(fund_specs_df['Inception_Month'], drop_first=True,prefix=\"Month\")\n",
        "Dayofweek = pd.get_dummies(fund_specs_df['Dayofweek'], drop_first=True, prefix=\"Day\")\n",
        "Quarter = pd.get_dummies(fund_specs_df['Quarter'], drop_first=True, prefix=\"Qua\")\n",
        "Semester = pd.get_dummies(fund_specs_df['Semester'], drop_first=True, prefix=\"Sem\")"
      ],
      "execution_count": 0,
      "outputs": []
    },
    {
      "cell_type": "markdown",
      "metadata": {
        "id": "f66QqZdB4cUa",
        "colab_type": "text"
      },
      "source": [
        "### Apply label encoding"
      ]
    },
    {
      "cell_type": "code",
      "metadata": {
        "id": "9aucMnAh4fKw",
        "colab_type": "code",
        "colab": {}
      },
      "source": [
        "labEnc = LabelEncoder()\n",
        "fund_specs_df['Inception_Day'] = labEnc.fit_transform(fund_specs_df['Inception_Day'])\n",
        "fund_specs_df['Inception_Year'] = labEnc.fit_transform(fund_specs_df['Inception_Year'])"
      ],
      "execution_count": 0,
      "outputs": []
    },
    {
      "cell_type": "markdown",
      "metadata": {
        "id": "BZBdV1ec4wjT",
        "colab_type": "text"
      },
      "source": [
        "### Concat categorical variable"
      ]
    },
    {
      "cell_type": "code",
      "metadata": {
        "id": "2QYd_uBjoFP0",
        "colab_type": "code",
        "colab": {}
      },
      "source": [
        "fund_specs_df_cat = pd.concat([Inception_Month, Dayofweek, Quarter, Semester], axis=1)\n",
        "fund_specs_df_cat.shape"
      ],
      "execution_count": 0,
      "outputs": []
    },
    {
      "cell_type": "code",
      "metadata": {
        "id": "kxnT4MyXoFP1",
        "colab_type": "code",
        "colab": {}
      },
      "source": [
        "#fund_specs_df.hist(figsize=(20,10), bins=50)"
      ],
      "execution_count": 0,
      "outputs": []
    },
    {
      "cell_type": "code",
      "metadata": {
        "id": "5zfNCPCFoFP3",
        "colab_type": "code",
        "colab": {}
      },
      "source": [
        "#fund_specs_df.describe().T"
      ],
      "execution_count": 0,
      "outputs": []
    },
    {
      "cell_type": "code",
      "metadata": {
        "id": "xCgwU0JzoFP5",
        "colab_type": "code",
        "colab": {}
      },
      "source": [
        "Target_label = fund_specs_df[['tag', 'greatstone_rating']]\n",
        "print(Target_label.shape)\n",
        "Target_label.head()"
      ],
      "execution_count": 0,
      "outputs": []
    },
    {
      "cell_type": "code",
      "metadata": {
        "id": "DWsV9PJqoFP9",
        "colab_type": "code",
        "colab": {}
      },
      "source": [
        "# Drop target label(greatstone_rating) and inception_date column\n",
        "#fund_specs_df.drop(labels=['greatstone_rating', 'inception_date', \"Weekday_name\"], axis=1,inplace=True)\n",
        "fund_specs_df.drop(labels=['greatstone_rating', 'inception_date', \"Inception_Month\", \"Dayofweek\", \"Quarter\", \"Semester\"], axis=1,inplace=True)\n",
        "fund_specs_df.isna().sum()"
      ],
      "execution_count": 0,
      "outputs": []
    },
    {
      "cell_type": "code",
      "metadata": {
        "id": "j-PPXY_goFP-",
        "colab_type": "code",
        "colab": {}
      },
      "source": [
        "#Fill Nan with mean for non categorical variable\n",
        "for col in fund_specs_df.select_dtypes(exclude='object').columns:\n",
        "    fund_specs_df[col] = fund_specs_df[col].fillna(fund_specs_df[col].median())\n",
        "    \n",
        "\n",
        "# Fill NaN with mode for categorical variable\n",
        "for col in fund_specs_df.select_dtypes(include='object').columns:\n",
        "    fund_specs_df[col] = fund_specs_df[col].fillna(fund_specs_df[col].mode()[0])"
      ],
      "execution_count": 0,
      "outputs": []
    },
    {
      "cell_type": "code",
      "metadata": {
        "id": "VquhgiZqoFQA",
        "colab_type": "code",
        "colab": {}
      },
      "source": [
        "#fund_specs_df.isna().sum()"
      ],
      "execution_count": 0,
      "outputs": []
    },
    {
      "cell_type": "code",
      "metadata": {
        "id": "Ia8BDpMdoFQB",
        "colab_type": "code",
        "colab": {}
      },
      "source": [
        "#fund_specs_df.hist(figsize=(10,8), bins=50)"
      ],
      "execution_count": 0,
      "outputs": []
    },
    {
      "cell_type": "code",
      "metadata": {
        "id": "b78MRzOuoFQD",
        "colab_type": "code",
        "colab": {}
      },
      "source": [
        ""
      ],
      "execution_count": 0,
      "outputs": []
    },
    {
      "cell_type": "markdown",
      "metadata": {
        "id": "WW_Zf7bToFQF",
        "colab_type": "text"
      },
      "source": [
        "### Merge target variable to fund_specs_df"
      ]
    },
    {
      "cell_type": "code",
      "metadata": {
        "id": "lg8DK2KHoFQF",
        "colab_type": "code",
        "colab": {}
      },
      "source": [
        "fund_specs_df = pd.merge(left=fund_specs_df, right=Target_label, on=['tag'], how='outer')"
      ],
      "execution_count": 0,
      "outputs": []
    },
    {
      "cell_type": "code",
      "metadata": {
        "id": "jdMQgZjHoFQH",
        "colab_type": "code",
        "colab": {}
      },
      "source": [
        "fund_specs_df.head()"
      ],
      "execution_count": 0,
      "outputs": []
    },
    {
      "cell_type": "code",
      "metadata": {
        "id": "R3_HGe5roFQJ",
        "colab_type": "code",
        "colab": {}
      },
      "source": [
        "investment_class = pd.get_dummies(fund_specs_df['investment_class'],drop_first=True)\n",
        "currency = pd.get_dummies(fund_specs_df['currency'],drop_first=True)\n",
        "fund_size = pd.get_dummies(fund_specs_df['fund_size'],drop_first=True)\n",
        "\n",
        "print('shape of investment_class: ',investment_class.shape)\n",
        "print('shape of currency: ',currency.shape)\n",
        "print('shape of fund_size: ',fund_size.shape)"
      ],
      "execution_count": 0,
      "outputs": []
    },
    {
      "cell_type": "code",
      "metadata": {
        "id": "yPmbBQ1moFQK",
        "colab_type": "code",
        "colab": {}
      },
      "source": [
        "cat_var_encoded = pd.concat([investment_class, currency, fund_size], axis=1)\n",
        "cat_var_encoded.shape"
      ],
      "execution_count": 0,
      "outputs": []
    },
    {
      "cell_type": "markdown",
      "metadata": {
        "id": "BVRDfgeEoFQM",
        "colab_type": "text"
      },
      "source": [
        "### Drop original columns after one hot encoding"
      ]
    },
    {
      "cell_type": "code",
      "metadata": {
        "id": "g0yDDp73oFQM",
        "colab_type": "code",
        "colab": {}
      },
      "source": [
        "fund_specs_df.drop(['investment_class', 'currency', 'fund_size'], axis=1, inplace=True)\n",
        "fund_specs_df.shape"
      ],
      "execution_count": 0,
      "outputs": []
    },
    {
      "cell_type": "code",
      "metadata": {
        "id": "B2AX6LgToFQN",
        "colab_type": "code",
        "colab": {}
      },
      "source": [
        "fund_specs_df.head()"
      ],
      "execution_count": 0,
      "outputs": []
    },
    {
      "cell_type": "code",
      "metadata": {
        "id": "-Hs2OyznoFQP",
        "colab_type": "code",
        "colab": {}
      },
      "source": [
        "#fund_specs_df.isna().sum()"
      ],
      "execution_count": 0,
      "outputs": []
    },
    {
      "cell_type": "code",
      "metadata": {
        "id": "Gso7GTUqoFQR",
        "colab_type": "code",
        "colab": {}
      },
      "source": [
        "#fund_specs_df.hist(figsize=(15,10), bins=20)"
      ],
      "execution_count": 0,
      "outputs": []
    },
    {
      "cell_type": "markdown",
      "metadata": {
        "id": "qgeHrRwvoFQW",
        "colab_type": "text"
      },
      "source": [
        "# other_specs_df"
      ]
    },
    {
      "cell_type": "code",
      "metadata": {
        "id": "Fhw9wA0OoFQX",
        "colab_type": "code",
        "colab": {}
      },
      "source": [
        "#other_specs_df.info()"
      ],
      "execution_count": 0,
      "outputs": []
    },
    {
      "cell_type": "code",
      "metadata": {
        "id": "Bp9bHpS2oFQY",
        "colab_type": "code",
        "colab": {}
      },
      "source": [
        "#other_specs_df.describe().T"
      ],
      "execution_count": 0,
      "outputs": []
    },
    {
      "cell_type": "code",
      "metadata": {
        "id": "lHi2kwD2oFQb",
        "colab_type": "code",
        "colab": {}
      },
      "source": [
        "# Change dtype from \"object\" to \"float\"\n",
        "for col in other_specs_df.select_dtypes(include='object').columns:\n",
        "    other_specs_df[col] = other_specs_df[col].str.replace(',', '')\n",
        "    other_specs_df[col] = other_specs_df[col].astype(\"float64\")"
      ],
      "execution_count": 0,
      "outputs": []
    },
    {
      "cell_type": "code",
      "metadata": {
        "id": "c-lV4l-EoFQd",
        "colab_type": "code",
        "colab": {}
      },
      "source": [
        "# Few features has zero median value, hence fill Nan with mean for non categorical variable\n",
        "for col in other_specs_df.columns:\n",
        "    other_specs_df[col] = other_specs_df[col].fillna(other_specs_df[col].mean())\n",
        "\n",
        "#other_specs_df.isna().sum()"
      ],
      "execution_count": 0,
      "outputs": []
    },
    {
      "cell_type": "code",
      "metadata": {
        "id": "3re7nB4PoFQe",
        "colab_type": "code",
        "colab": {}
      },
      "source": [
        "#other_specs_df.hist(figsize=(20,30), bins=20, layout=(11,5))"
      ],
      "execution_count": 0,
      "outputs": []
    },
    {
      "cell_type": "markdown",
      "metadata": {
        "id": "IVHwsV1DoFQg",
        "colab_type": "text"
      },
      "source": [
        "# return_3year_df"
      ]
    },
    {
      "cell_type": "code",
      "metadata": {
        "id": "Y4J2aGtroFQg",
        "colab_type": "code",
        "colab": {}
      },
      "source": [
        "#return_3year_df.info()"
      ],
      "execution_count": 0,
      "outputs": []
    },
    {
      "cell_type": "code",
      "metadata": {
        "id": "zRqE-XyaoFQj",
        "colab_type": "code",
        "colab": {}
      },
      "source": [
        "#return_3year_df.describe().T"
      ],
      "execution_count": 0,
      "outputs": []
    },
    {
      "cell_type": "code",
      "metadata": {
        "id": "8JgNoznFoFQl",
        "colab_type": "code",
        "colab": {}
      },
      "source": [
        "# Change dtype from \"object\" to \"float\"\n",
        "for col in return_3year_df.select_dtypes(include='object').columns:\n",
        "    return_3year_df[col] = return_3year_df[col].str.replace(',', '')\n",
        "    return_3year_df[col] = return_3year_df[col].astype(\"float64\")"
      ],
      "execution_count": 0,
      "outputs": []
    },
    {
      "cell_type": "code",
      "metadata": {
        "id": "2_Zk3ui3oFQm",
        "colab_type": "code",
        "colab": {}
      },
      "source": [
        "#Fill Nan with mean for non categorical variable\n",
        "for col in return_3year_df.columns:\n",
        "    return_3year_df[col] = return_3year_df[col].fillna(return_3year_df[col].median())\n",
        "\n",
        "#return_3year_df.isna().sum()"
      ],
      "execution_count": 0,
      "outputs": []
    },
    {
      "cell_type": "code",
      "metadata": {
        "id": "hxfcvVAjoFQn",
        "colab_type": "code",
        "colab": {}
      },
      "source": [
        "#return_3year_df.hist(figsize=(20,30))"
      ],
      "execution_count": 0,
      "outputs": []
    },
    {
      "cell_type": "markdown",
      "metadata": {
        "id": "OKZGrEH7oFQo",
        "colab_type": "text"
      },
      "source": [
        "### Apply One hot encoding"
      ]
    },
    {
      "cell_type": "code",
      "metadata": {
        "id": "roCKIqYToFQp",
        "colab_type": "code",
        "colab": {}
      },
      "source": [
        "#annual_mean_3yr = pd.get_dummies(return_3year_df['3_years_return_mean_annual_category'], drop_first=True, prefix=\"annual_mean_3yr\")\n",
        "\n",
        "#sharpe_ratio_3yr = pd.get_dummies(return_3year_df['3yrs_sharpe_ratio_category'], drop_first=True, prefix=\"sharpe_ratio_3yr\")\n",
        "\n",
        "#beta_3yr = pd.get_dummies(return_3year_df['category_beta_3years'], prefix=\"beta_3yr\", drop_first=True)"
      ],
      "execution_count": 0,
      "outputs": []
    },
    {
      "cell_type": "code",
      "metadata": {
        "id": "ec1kJCoyoFQq",
        "colab_type": "code",
        "colab": {}
      },
      "source": [
        "#print(\"Shape of annual_mean_3yr\",annual_mean_3yr.shape)\n",
        "#print(\"Shape of sharpe_ratio_3yr\",sharpe_ratio_3yr.shape)\n",
        "#print(\"Shape of beta_3yr\",beta_3yr.shape)"
      ],
      "execution_count": 0,
      "outputs": []
    },
    {
      "cell_type": "markdown",
      "metadata": {
        "id": "5btMtyLuoFQt",
        "colab_type": "text"
      },
      "source": [
        "### Concat all categorical columns"
      ]
    },
    {
      "cell_type": "code",
      "metadata": {
        "id": "P77H3vm7oFQt",
        "colab_type": "code",
        "colab": {}
      },
      "source": [
        "#return_3year_df_cat = pd.concat([annual_mean_3yr, sharpe_ratio_3yr, beta_3yr], axis=1)\n",
        "#return_3year_df_cat.shape"
      ],
      "execution_count": 0,
      "outputs": []
    },
    {
      "cell_type": "markdown",
      "metadata": {
        "id": "sW4fq21_oFQu",
        "colab_type": "text"
      },
      "source": [
        "### Drop original columns after one hot encoding"
      ]
    },
    {
      "cell_type": "code",
      "metadata": {
        "id": "ntcwwI72oFQv",
        "colab_type": "code",
        "colab": {}
      },
      "source": [
        "return_3year_df.shape"
      ],
      "execution_count": 0,
      "outputs": []
    },
    {
      "cell_type": "code",
      "metadata": {
        "id": "IYoe5xNNoFQx",
        "colab_type": "code",
        "colab": {}
      },
      "source": [
        "#return_3year_df.drop(labels=['3_years_return_mean_annual_category', '3yrs_sharpe_ratio_category', 'category_beta_3years'], axis=1,inplace=True)\n",
        "return_3year_df.shape"
      ],
      "execution_count": 0,
      "outputs": []
    },
    {
      "cell_type": "code",
      "metadata": {
        "id": "oYD4gFj7oFQz",
        "colab_type": "code",
        "colab": {}
      },
      "source": [
        ""
      ],
      "execution_count": 0,
      "outputs": []
    },
    {
      "cell_type": "markdown",
      "metadata": {
        "id": "sEoPNEdvoFQ1",
        "colab_type": "text"
      },
      "source": [
        "# return_5year_df"
      ]
    },
    {
      "cell_type": "code",
      "metadata": {
        "id": "ugINTgd_oFQ1",
        "colab_type": "code",
        "colab": {}
      },
      "source": [
        "#return_5year_df.info()"
      ],
      "execution_count": 0,
      "outputs": []
    },
    {
      "cell_type": "code",
      "metadata": {
        "id": "9KsnKbJvoFQ3",
        "colab_type": "code",
        "colab": {}
      },
      "source": [
        "#return_5year_df.describe().T"
      ],
      "execution_count": 0,
      "outputs": []
    },
    {
      "cell_type": "code",
      "metadata": {
        "id": "WkQKuDM1oFQ6",
        "colab_type": "code",
        "colab": {}
      },
      "source": [
        "# Change dtype from \"object\" to \"float\"\n",
        "for col in return_5year_df.select_dtypes(include='object').columns:\n",
        "    return_5year_df[col] = return_5year_df[col].str.replace(',', '')\n",
        "    return_5year_df[col] = return_5year_df[col].astype(\"float64\")"
      ],
      "execution_count": 0,
      "outputs": []
    },
    {
      "cell_type": "code",
      "metadata": {
        "id": "nsvsDba3oFQ7",
        "colab_type": "code",
        "colab": {}
      },
      "source": [
        "#Fill Nan with mean for non categorical variable\n",
        "for col in return_5year_df.columns:\n",
        "    return_5year_df[col] = return_5year_df[col].fillna(return_5year_df[col].mean())\n",
        "\n",
        "#return_5year_df.isna().sum()"
      ],
      "execution_count": 0,
      "outputs": []
    },
    {
      "cell_type": "code",
      "metadata": {
        "id": "hl_GqXQIoFQ9",
        "colab_type": "code",
        "colab": {}
      },
      "source": [
        "#return_5year_df.hist(figsize=(20,30))"
      ],
      "execution_count": 0,
      "outputs": []
    },
    {
      "cell_type": "markdown",
      "metadata": {
        "id": "INPYmgqooFQ_",
        "colab_type": "text"
      },
      "source": [
        "### Apply one hot encoding"
      ]
    },
    {
      "cell_type": "code",
      "metadata": {
        "id": "T2S3lL0VoFQ_",
        "colab_type": "code",
        "colab": {}
      },
      "source": [
        "#annual_mean_5yr = pd.get_dummies(return_5year_df['5_years_return_mean_annual_category'],  drop_first=True, prefix=\"annual_mean_5yr\")\n",
        "\n",
        "#sharpe_ratio_5yr = pd.get_dummies(return_5year_df['5yrs_sharpe_ratio_category'],  drop_first=True, prefix=\"sharpe_ratio_5yr\")\n",
        "\n",
        "#beta_5yr = pd.get_dummies(return_5year_df['5_years_beta_category'],drop_first=True, prefix=\"beta_5yr\")"
      ],
      "execution_count": 0,
      "outputs": []
    },
    {
      "cell_type": "code",
      "metadata": {
        "id": "vMITOuZqoFRB",
        "colab_type": "code",
        "colab": {}
      },
      "source": [
        "#print(\"Shape of annual_mean_5yr\", annual_mean_5yr.shape)\n",
        "#print(\"Shape of sharpe_ratio_5yr\", sharpe_ratio_5yr.shape)\n",
        "#print(\"Shape of beta_5yr\", beta_5yr.shape)"
      ],
      "execution_count": 0,
      "outputs": []
    },
    {
      "cell_type": "markdown",
      "metadata": {
        "id": "fntkBoQIoFRK",
        "colab_type": "text"
      },
      "source": [
        "### Concat all categorical columns"
      ]
    },
    {
      "cell_type": "code",
      "metadata": {
        "id": "P8uipFfuoFRL",
        "colab_type": "code",
        "colab": {}
      },
      "source": [
        "#return_5year_df_cat = pd.concat([annual_mean_5yr, sharpe_ratio_5yr, beta_5yr],axis=1)\n",
        "#return_5year_df_cat.shape"
      ],
      "execution_count": 0,
      "outputs": []
    },
    {
      "cell_type": "markdown",
      "metadata": {
        "id": "CatwwXrcoFRM",
        "colab_type": "text"
      },
      "source": [
        "### Drop orginal columns after one hot encoding"
      ]
    },
    {
      "cell_type": "code",
      "metadata": {
        "id": "3HSYAae3oFRM",
        "colab_type": "code",
        "colab": {}
      },
      "source": [
        "return_5year_df.shape"
      ],
      "execution_count": 0,
      "outputs": []
    },
    {
      "cell_type": "code",
      "metadata": {
        "id": "XJQWGPMzoFRN",
        "colab_type": "code",
        "colab": {}
      },
      "source": [
        "#return_5year_df.drop(labels=['5_years_return_mean_annual_category', '5yrs_sharpe_ratio_category',\n",
        "#                            '5_years_beta_category'], axis=1, inplace=True)\n",
        "return_5year_df.shape"
      ],
      "execution_count": 0,
      "outputs": []
    },
    {
      "cell_type": "markdown",
      "metadata": {
        "id": "lloORIpUoFRP",
        "colab_type": "text"
      },
      "source": [
        "# return_10year_df"
      ]
    },
    {
      "cell_type": "code",
      "metadata": {
        "id": "txZDFjf4oFRP",
        "colab_type": "code",
        "colab": {}
      },
      "source": [
        "#return_10year_df.info()"
      ],
      "execution_count": 0,
      "outputs": []
    },
    {
      "cell_type": "code",
      "metadata": {
        "id": "i-p2l76CoFRQ",
        "colab_type": "code",
        "colab": {}
      },
      "source": [
        "#return_10year_df.describe().T"
      ],
      "execution_count": 0,
      "outputs": []
    },
    {
      "cell_type": "code",
      "metadata": {
        "id": "aIQEgnrhoFRS",
        "colab_type": "code",
        "colab": {}
      },
      "source": [
        "# Change dtype from \"object\" to \"float\"\n",
        "for col in return_10year_df.select_dtypes(include='object').columns:\n",
        "    if col != 'fund_id':\n",
        "        return_10year_df[col] = return_10year_df[col].str.replace(',', '')\n",
        "        return_10year_df[col] = return_10year_df[col].astype(\"float64\")\n",
        "\n",
        "#Fill Nan with mean for non categorical variable\n",
        "for col in return_10year_df.columns:\n",
        "    if col != 'fund_id':\n",
        "        return_10year_df[col] = return_10year_df[col].fillna(return_10year_df[col].median())\n",
        "\n",
        "#return_10year_df.isna().sum()"
      ],
      "execution_count": 0,
      "outputs": []
    },
    {
      "cell_type": "code",
      "metadata": {
        "id": "hbphVkYPoFRT",
        "colab_type": "code",
        "colab": {}
      },
      "source": [
        "#return_10year_df.hist(figsize=(20,30),bins=20)"
      ],
      "execution_count": 0,
      "outputs": []
    },
    {
      "cell_type": "markdown",
      "metadata": {
        "id": "H10dbIQpoFRU",
        "colab_type": "text"
      },
      "source": [
        "### Apply one hot encoding"
      ]
    },
    {
      "cell_type": "code",
      "metadata": {
        "id": "IX_F3xn1oFRU",
        "colab_type": "code",
        "colab": {}
      },
      "source": [
        "#annual_mean_10yr = pd.get_dummies(return_10year_df['10_years_return_mean_annual_category'], drop_first=True, prefix=\"annual_mean_10yr\")\n",
        "#sharpe_ratio_10yr = pd.get_dummies(return_10year_df['10yrs_sharpe_ratio_category'],  drop_first=True, prefix=\"sharpe_ratio_10yr\")\n",
        "#beta_10yr = pd.get_dummies(return_10year_df['10_years_beta_category'], drop_first=True, prefix=\"beta_10yr\")"
      ],
      "execution_count": 0,
      "outputs": []
    },
    {
      "cell_type": "code",
      "metadata": {
        "id": "Fbc69HcSoFRW",
        "colab_type": "code",
        "colab": {}
      },
      "source": [
        "#print(\"Shape of annual_mean_5yr\", annual_mean_10yr.shape)\n",
        "#print(\"Shape of sharpe_ratio_5yr\", sharpe_ratio_10yr.shape)\n",
        "#print(\"Shape of beta_5yr\", beta_10yr.shape)"
      ],
      "execution_count": 0,
      "outputs": []
    },
    {
      "cell_type": "markdown",
      "metadata": {
        "id": "fGVFx5D8oFRZ",
        "colab_type": "text"
      },
      "source": [
        "### Cancat all categorical columns"
      ]
    },
    {
      "cell_type": "code",
      "metadata": {
        "id": "5R7Fp9ohoFRZ",
        "colab_type": "code",
        "colab": {}
      },
      "source": [
        "#return_10year_df_cat = pd.concat([annual_mean_10yr, sharpe_ratio_10yr, beta_10yr],axis=1)\n",
        "#return_10year_df_cat.shape"
      ],
      "execution_count": 0,
      "outputs": []
    },
    {
      "cell_type": "markdown",
      "metadata": {
        "id": "6Q3Mij4RoFRa",
        "colab_type": "text"
      },
      "source": [
        "### Drop original columns after one hot encoding"
      ]
    },
    {
      "cell_type": "code",
      "metadata": {
        "id": "xKH9WS4RoFRa",
        "colab_type": "code",
        "colab": {}
      },
      "source": [
        "return_10year_df.shape"
      ],
      "execution_count": 0,
      "outputs": []
    },
    {
      "cell_type": "code",
      "metadata": {
        "id": "gr6BLYj5oFRb",
        "colab_type": "code",
        "colab": {}
      },
      "source": [
        "#return_10year_df.drop(labels=['10_years_return_mean_annual_category', '10yrs_sharpe_ratio_category', \n",
        "#                              '10_years_beta_category'], axis=1, inplace=True)\n",
        "return_10year_df.shape"
      ],
      "execution_count": 0,
      "outputs": []
    },
    {
      "cell_type": "code",
      "metadata": {
        "id": "J09vsRHnoFRc",
        "colab_type": "code",
        "colab": {}
      },
      "source": [
        ""
      ],
      "execution_count": 0,
      "outputs": []
    },
    {
      "cell_type": "markdown",
      "metadata": {
        "id": "KeAvydzRoFRf",
        "colab_type": "text"
      },
      "source": [
        "### Merge all dataframe except \"fund_config_df\" and \"return_10year_df\" dataframe on \"tag\" column"
      ]
    },
    {
      "cell_type": "code",
      "metadata": {
        "id": "xxs9ahuZoFRf",
        "colab_type": "code",
        "colab": {}
      },
      "source": [
        "df_list_1 = [bond_ratings_df, fund_allocations_df,  fund_ratios_df,  fund_specs_df, other_specs_df, \n",
        "             return_3year_df, return_5year_df]"
      ],
      "execution_count": 0,
      "outputs": []
    },
    {
      "cell_type": "code",
      "metadata": {
        "id": "uBXt2DcToFRg",
        "colab_type": "code",
        "colab": {}
      },
      "source": [
        "df_combined_on_tag = reduce(lambda  left,right: pd.merge(left,right,on=['tag'], how='outer'), df_list_1)\n",
        "df_combined_on_tag.shape"
      ],
      "execution_count": 0,
      "outputs": []
    },
    {
      "cell_type": "code",
      "metadata": {
        "id": "nFTHZ3WuoFRh",
        "colab_type": "code",
        "colab": {}
      },
      "source": [
        ""
      ],
      "execution_count": 0,
      "outputs": []
    },
    {
      "cell_type": "markdown",
      "metadata": {
        "id": "0tfjH9OGoFRi",
        "colab_type": "text"
      },
      "source": [
        "### Merge \"df_combined_on_tag\", \"fund_config_df\" and \"return_10year_df\" dataframe on \"fund_id\" column"
      ]
    },
    {
      "cell_type": "code",
      "metadata": {
        "id": "zmX_H5UroFRi",
        "colab_type": "code",
        "colab": {}
      },
      "source": [
        "df_list_2 = [df_combined_on_tag, return_10year_df,  fund_config_df]"
      ],
      "execution_count": 0,
      "outputs": []
    },
    {
      "cell_type": "code",
      "metadata": {
        "id": "6QNCe8vLoFRj",
        "colab_type": "code",
        "colab": {}
      },
      "source": [
        "merged_df = reduce(lambda  left,right: pd.merge(left,right,on=['fund_id'], how='outer'), df_list_2)\n",
        "merged_df.shape"
      ],
      "execution_count": 0,
      "outputs": []
    },
    {
      "cell_type": "code",
      "metadata": {
        "id": "qiEqc-iOoFRk",
        "colab_type": "code",
        "colab": {}
      },
      "source": [
        "#for col in merged_df.columns:\n",
        "#    print(col)"
      ],
      "execution_count": 0,
      "outputs": []
    },
    {
      "cell_type": "code",
      "metadata": {
        "id": "AlYdTP_-oFRl",
        "colab_type": "code",
        "colab": {}
      },
      "source": [
        ""
      ],
      "execution_count": 0,
      "outputs": []
    },
    {
      "cell_type": "markdown",
      "metadata": {
        "id": "qrX5saF8oFRm",
        "colab_type": "text"
      },
      "source": [
        "## Drop duplicate columns after merging and rename"
      ]
    },
    {
      "cell_type": "code",
      "metadata": {
        "id": "VV8gUGh1oFRn",
        "colab_type": "code",
        "colab": {}
      },
      "source": [
        "merged_df.drop(columns=['pb_ratio_y', 'ps_ratio_y', 'mmc_y', 'pc_ratio_y', 'pe_ratio_y', 'greatstone_rating_y', \n",
        "                        'fund_return_3years_y'],axis=1,inplace=True)"
      ],
      "execution_count": 0,
      "outputs": []
    },
    {
      "cell_type": "code",
      "metadata": {
        "id": "N8eufAMEoFRo",
        "colab_type": "code",
        "colab": {}
      },
      "source": [
        "merged_df.rename(columns={\"pb_ratio_x\":'pb_ratio', \n",
        "                          \"ps_ratio_x\":'ps_ratio', \n",
        "                          \"mmc_x\":\"mmc\",\n",
        "                          \"pc_ratio_x\":\"pc_ratio\", \n",
        "                          \"pe_ratio_x\":\"pe_ratio\", \n",
        "                          \"greatstone_rating_x\":\"greatstone_rating\",\n",
        "                          \"fund_return_3years_x\":\"fund_return_3years\"}, inplace=True)"
      ],
      "execution_count": 0,
      "outputs": []
    },
    {
      "cell_type": "code",
      "metadata": {
        "id": "89Llk9FLoFRp",
        "colab_type": "code",
        "colab": {}
      },
      "source": [
        "merged_df.shape"
      ],
      "execution_count": 0,
      "outputs": []
    },
    {
      "cell_type": "markdown",
      "metadata": {
        "id": "t92d60EpoFRq",
        "colab_type": "text"
      },
      "source": [
        "# Merge all categorical and numerical columns"
      ]
    },
    {
      "cell_type": "markdown",
      "metadata": {
        "id": "Ov7rT-PZoFRq",
        "colab_type": "text"
      },
      "source": [
        "### All numerical columns"
      ]
    },
    {
      "cell_type": "code",
      "metadata": {
        "id": "GJbpFWp5oFRq",
        "colab_type": "code",
        "colab": {}
      },
      "source": [
        "all_num_col = merged_df.columns\n",
        "len(all_num_col)"
      ],
      "execution_count": 0,
      "outputs": []
    },
    {
      "cell_type": "markdown",
      "metadata": {
        "id": "0ytCNrw0oFRr",
        "colab_type": "text"
      },
      "source": [
        "### All categorical variable"
      ]
    },
    {
      "cell_type": "code",
      "metadata": {
        "id": "cVyB-ryuoFRr",
        "colab_type": "code",
        "colab": {}
      },
      "source": [
        "#all_cat_df = pd.concat([cat_var_encoded, return_3year_df_cat, return_5year_df_cat, return_10year_df_cat], axis=1)\n",
        "#all_cat_df = cat_var_encoded\n",
        "\n",
        "all_cat_df = pd.concat([cat_var_encoded, fund_specs_df_cat], axis=1)\n",
        "all_cat_df.shape"
      ],
      "execution_count": 0,
      "outputs": []
    },
    {
      "cell_type": "code",
      "metadata": {
        "id": "diljenk3oFRt",
        "colab_type": "code",
        "colab": {}
      },
      "source": [
        "all_cat_col = all_cat_df.columns\n",
        "len(all_cat_col)"
      ],
      "execution_count": 0,
      "outputs": []
    },
    {
      "cell_type": "markdown",
      "metadata": {
        "id": "nEfD5ZIioFRu",
        "colab_type": "text"
      },
      "source": [
        "### Merged df"
      ]
    },
    {
      "cell_type": "code",
      "metadata": {
        "id": "SNtOljRRoFRv",
        "colab_type": "code",
        "colab": {}
      },
      "source": [
        "merged_df = pd.concat([merged_df, all_cat_df], axis=1)"
      ],
      "execution_count": 0,
      "outputs": []
    },
    {
      "cell_type": "code",
      "metadata": {
        "id": "L0cic9NEoFRx",
        "colab_type": "code",
        "colab": {}
      },
      "source": [
        "merged_df.shape"
      ],
      "execution_count": 0,
      "outputs": []
    },
    {
      "cell_type": "code",
      "metadata": {
        "id": "94q13U4boFR1",
        "colab_type": "code",
        "colab": {}
      },
      "source": [
        "#for col in merged_df.columns:\n",
        "#    print(col,\"------\", merged_df[col].dtype)"
      ],
      "execution_count": 0,
      "outputs": []
    },
    {
      "cell_type": "markdown",
      "metadata": {
        "id": "RGWnMaODoFR1",
        "colab_type": "text"
      },
      "source": [
        "# Segregate the training & test data based on where the greatstone ratings are provided or not"
      ]
    },
    {
      "cell_type": "code",
      "metadata": {
        "id": "5-SEtN_joFR2",
        "colab_type": "code",
        "colab": {}
      },
      "source": [
        "submission_df.head()"
      ],
      "execution_count": 0,
      "outputs": []
    },
    {
      "cell_type": "markdown",
      "metadata": {
        "id": "BAOWxFVZoFR3",
        "colab_type": "text"
      },
      "source": [
        "### Perfome inner join on \"fund_id\", common data will be test data"
      ]
    },
    {
      "cell_type": "code",
      "metadata": {
        "id": "O45yxgVMoFR3",
        "colab_type": "code",
        "colab": {}
      },
      "source": [
        "Test_df = pd.merge(submission_df, merged_df, how='inner', on=['fund_id'])\n",
        "Test_df.drop(columns=['greatstone_rating_y'],axis=1, inplace=True)\n",
        "Test_df.rename(columns={'greatstone_rating_x':'greatstone_rating'},inplace=True)\n",
        "Test_df.shape"
      ],
      "execution_count": 0,
      "outputs": []
    },
    {
      "cell_type": "markdown",
      "metadata": {
        "id": "r-KdlWQToFR4",
        "colab_type": "text"
      },
      "source": [
        "# Remove test data from merged dataframe and name that as Train_df"
      ]
    },
    {
      "cell_type": "code",
      "metadata": {
        "id": "ZQRhKM38oFR4",
        "colab_type": "code",
        "colab": {}
      },
      "source": [
        "Train_df = merged_df[~merged_df[\"fund_id\"].isin(Test_df[\"fund_id\"])]\n",
        "Train_df.shape"
      ],
      "execution_count": 0,
      "outputs": []
    },
    {
      "cell_type": "markdown",
      "metadata": {
        "id": "vu1W3C-XoFR5",
        "colab_type": "text"
      },
      "source": [
        "### Difference between test and train"
      ]
    },
    {
      "cell_type": "code",
      "metadata": {
        "id": "YSPpjJSQoFR5",
        "colab_type": "code",
        "colab": {}
      },
      "source": [
        "Train_df.columns.difference(Test_df.columns)"
      ],
      "execution_count": 0,
      "outputs": []
    },
    {
      "cell_type": "markdown",
      "metadata": {
        "id": "ZRZmSkSWoFR7",
        "colab_type": "text"
      },
      "source": [
        "### Check if order of Test_df and and submission_df is same or not ?"
      ]
    },
    {
      "cell_type": "code",
      "metadata": {
        "id": "BbrSoo37oFR8",
        "colab_type": "code",
        "colab": {}
      },
      "source": [
        "Test_df[Test_df['fund_id'] != submission_df['fund_id']]"
      ],
      "execution_count": 0,
      "outputs": []
    },
    {
      "cell_type": "markdown",
      "metadata": {
        "id": "fl9o0l_voFR8",
        "colab_type": "text"
      },
      "source": [
        "### Copy submit_df"
      ]
    },
    {
      "cell_type": "code",
      "metadata": {
        "id": "flAskVVtoFR9",
        "colab_type": "code",
        "colab": {}
      },
      "source": [
        "submit_df = Test_df[['fund_id', 'greatstone_rating']].copy()"
      ],
      "execution_count": 0,
      "outputs": []
    },
    {
      "cell_type": "code",
      "metadata": {
        "id": "yiHNV92moFR9",
        "colab_type": "code",
        "colab": {}
      },
      "source": [
        "submit_df.shape"
      ],
      "execution_count": 0,
      "outputs": []
    },
    {
      "cell_type": "markdown",
      "metadata": {
        "id": "esPfjGx6oFSC",
        "colab_type": "text"
      },
      "source": [
        "### Reset Train_df index"
      ]
    },
    {
      "cell_type": "code",
      "metadata": {
        "id": "HDDwBN1YoFSC",
        "colab_type": "code",
        "colab": {}
      },
      "source": [
        "Train_df.reset_index(inplace=True,drop=True)"
      ],
      "execution_count": 0,
      "outputs": []
    },
    {
      "cell_type": "code",
      "metadata": {
        "id": "u3CWLEG8oFSD",
        "colab_type": "code",
        "colab": {}
      },
      "source": [
        "Train_df.index"
      ],
      "execution_count": 0,
      "outputs": []
    },
    {
      "cell_type": "markdown",
      "metadata": {
        "id": "JsXDLFptoFSF",
        "colab_type": "text"
      },
      "source": [
        "### Reset Test_df index"
      ]
    },
    {
      "cell_type": "code",
      "metadata": {
        "id": "UiP4-AO3oFSF",
        "colab_type": "code",
        "colab": {}
      },
      "source": [
        "Test_df.reset_index(inplace=True, drop=True)"
      ],
      "execution_count": 0,
      "outputs": []
    },
    {
      "cell_type": "code",
      "metadata": {
        "id": "Hok7CjlZoFSI",
        "colab_type": "code",
        "colab": {}
      },
      "source": [
        "Test_df.index"
      ],
      "execution_count": 0,
      "outputs": []
    },
    {
      "cell_type": "markdown",
      "metadata": {
        "id": "B4r0L3PgoFSK",
        "colab_type": "text"
      },
      "source": [
        "### Seperate numerical and categorical columns"
      ]
    },
    {
      "cell_type": "code",
      "metadata": {
        "id": "qDYXlXGMoFSK",
        "colab_type": "code",
        "colab": {}
      },
      "source": [
        "Train_df_num = Train_df[all_num_col]\n",
        "Train_df_cat = Train_df[all_cat_col]"
      ],
      "execution_count": 0,
      "outputs": []
    },
    {
      "cell_type": "code",
      "metadata": {
        "id": "Wf1w3mP7oFSL",
        "colab_type": "code",
        "colab": {}
      },
      "source": [
        "print(\"Train_df: \",Train_df.shape)\n",
        "print(\"Train_df_num: \",Train_df_num.shape)\n",
        "print(\"Train_df_cal: \",Train_df_cat.shape)"
      ],
      "execution_count": 0,
      "outputs": []
    },
    {
      "cell_type": "code",
      "metadata": {
        "id": "O3gNGMTQoFSM",
        "colab_type": "code",
        "colab": {}
      },
      "source": [
        "Test_df_num = Test_df[all_num_col]\n",
        "Test_df_cat = Test_df[all_cat_col]"
      ],
      "execution_count": 0,
      "outputs": []
    },
    {
      "cell_type": "code",
      "metadata": {
        "id": "zoK2bIBEoFSQ",
        "colab_type": "code",
        "colab": {}
      },
      "source": [
        "print(\"Test_df: \",Test_df.shape)\n",
        "print(\"Test_df_num: \",Test_df_num.shape)\n",
        "print(\"Test_df_cat: \",Test_df_cat.shape)"
      ],
      "execution_count": 0,
      "outputs": []
    },
    {
      "cell_type": "markdown",
      "metadata": {
        "id": "3EWZpFs4oFSR",
        "colab_type": "text"
      },
      "source": [
        "### Drop \"fund_id\" and \"tag\" from train and test"
      ]
    },
    {
      "cell_type": "code",
      "metadata": {
        "id": "KXskwMiroFSR",
        "colab_type": "code",
        "colab": {}
      },
      "source": [
        "Train_df_num = Train_df_num.drop(['fund_id', 'tag'], axis=1)\n",
        "Test_df_num = Test_df_num.drop(['fund_id', 'tag'], axis=1)"
      ],
      "execution_count": 0,
      "outputs": []
    },
    {
      "cell_type": "code",
      "metadata": {
        "id": "k0d3BhT7oFST",
        "colab_type": "code",
        "colab": {}
      },
      "source": [
        "print(\"Train shape after dropping: \", Train_df_num.shape)\n",
        "print(\"Test shape after dropping: \", Test_df_num.shape)"
      ],
      "execution_count": 0,
      "outputs": []
    },
    {
      "cell_type": "markdown",
      "metadata": {
        "id": "JTCIX-VxoFSU",
        "colab_type": "text"
      },
      "source": [
        "# Feature Selection correlation based\n",
        "\n",
        "#### 1. Compare the correlation between features and remove one of two features having higher correlation."
      ]
    },
    {
      "cell_type": "code",
      "metadata": {
        "id": "Hec_xQIOoFSU",
        "colab_type": "code",
        "colab": {}
      },
      "source": [
        "corrmat = Train_df_num.corr()"
      ],
      "execution_count": 0,
      "outputs": []
    },
    {
      "cell_type": "code",
      "metadata": {
        "id": "Cm8p3HW2oFSV",
        "colab_type": "code",
        "colab": {}
      },
      "source": [
        "corrmat.shape"
      ],
      "execution_count": 0,
      "outputs": []
    },
    {
      "cell_type": "code",
      "metadata": {
        "id": "BM4H0R1DoFSW",
        "colab_type": "code",
        "colab": {}
      },
      "source": [
        "columns = np.full((corrmat.shape[0],), True, dtype=bool)\n",
        "columns"
      ],
      "execution_count": 0,
      "outputs": []
    },
    {
      "cell_type": "code",
      "metadata": {
        "id": "ljdxYlTioFSX",
        "colab_type": "code",
        "colab": {}
      },
      "source": [
        "len(columns)"
      ],
      "execution_count": 0,
      "outputs": []
    },
    {
      "cell_type": "code",
      "metadata": {
        "id": "3SPEDwW6oFSY",
        "colab_type": "code",
        "colab": {}
      },
      "source": [
        "for i in range(corrmat.shape[0]):\n",
        "    for j in range(i+1, corrmat.shape[0]):\n",
        "        if corrmat.iloc[i,j] >=0.9:\n",
        "            if columns[j]:\n",
        "                columns[j] = False\n",
        "\n",
        "# List of selected columns\n",
        "selected_columns = Train_df_num.columns[columns]\n",
        "print(\"Number of selected columns: \",len(selected_columns))"
      ],
      "execution_count": 0,
      "outputs": []
    },
    {
      "cell_type": "markdown",
      "metadata": {
        "id": "2GpR529ioFSa",
        "colab_type": "text"
      },
      "source": [
        "#### 2. Find features which are highly correlated with target columns"
      ]
    },
    {
      "cell_type": "code",
      "metadata": {
        "id": "7QAEMY_loFSb",
        "colab_type": "code",
        "colab": {}
      },
      "source": [
        "#Train_df_num = Train_df_num[selected_columns]\n",
        "#Train_df_num.shape"
      ],
      "execution_count": 0,
      "outputs": []
    },
    {
      "cell_type": "code",
      "metadata": {
        "id": "ikrAdd8YoFSc",
        "colab_type": "code",
        "colab": {}
      },
      "source": [
        "#corr_matrix = Train_df_num.corr()"
      ],
      "execution_count": 0,
      "outputs": []
    },
    {
      "cell_type": "code",
      "metadata": {
        "id": "k3P4jeD3oFSd",
        "colab_type": "code",
        "colab": {}
      },
      "source": [
        "#corr_matrix.shape"
      ],
      "execution_count": 0,
      "outputs": []
    },
    {
      "cell_type": "code",
      "metadata": {
        "id": "_6QMdOn4oFSe",
        "colab_type": "code",
        "colab": {}
      },
      "source": [
        "#Correlation with output variable\n",
        "#corr_target = abs(corr_matrix[\"greatstone_rating\"])"
      ],
      "execution_count": 0,
      "outputs": []
    },
    {
      "cell_type": "code",
      "metadata": {
        "id": "v4XPt_usoFSg",
        "colab_type": "code",
        "colab": {}
      },
      "source": [
        "#corr_matrix[\"greatstone_rating\"] = abs(corr_matrix[\"greatstone_rating\"])"
      ],
      "execution_count": 0,
      "outputs": []
    },
    {
      "cell_type": "code",
      "metadata": {
        "id": "BcXQWNnxoFSh",
        "colab_type": "code",
        "colab": {}
      },
      "source": [
        "# filter column having corr more that threshold\n",
        "#filtered_corr_mat = corr_matrix[corr_matrix[\"greatstone_rating\"] > 0.1]\n",
        "#filtered_corr_mat.shape"
      ],
      "execution_count": 0,
      "outputs": []
    },
    {
      "cell_type": "markdown",
      "metadata": {
        "id": "XwkbKwMgoFSi",
        "colab_type": "text"
      },
      "source": [
        "### List of selected columns"
      ]
    },
    {
      "cell_type": "code",
      "metadata": {
        "id": "GqwQOKN8oFSi",
        "colab_type": "code",
        "colab": {}
      },
      "source": [
        "#filtered_corr_mat_T = filtered_corr_mat.T\n",
        "#selected_columns = filtered_corr_mat_T.columns\n",
        "#selected_columns"
      ],
      "execution_count": 0,
      "outputs": []
    },
    {
      "cell_type": "code",
      "metadata": {
        "id": "Cpz_RdaboFSj",
        "colab_type": "code",
        "colab": {}
      },
      "source": [
        ""
      ],
      "execution_count": 0,
      "outputs": []
    },
    {
      "cell_type": "markdown",
      "metadata": {
        "id": "Jtp2sGcIoFSl",
        "colab_type": "text"
      },
      "source": [
        "### Create new train and test dataframe based on filtered columns "
      ]
    },
    {
      "cell_type": "code",
      "metadata": {
        "id": "BANp2GHSoFSl",
        "colab_type": "code",
        "colab": {}
      },
      "source": [
        "Train_df_num.shape"
      ],
      "execution_count": 0,
      "outputs": []
    },
    {
      "cell_type": "code",
      "metadata": {
        "id": "vd1mpMMUoFSm",
        "colab_type": "code",
        "colab": {}
      },
      "source": [
        "#Train_df_num = Train_df_num[selected_columns]\n",
        "#Train_df_num.shape"
      ],
      "execution_count": 0,
      "outputs": []
    },
    {
      "cell_type": "code",
      "metadata": {
        "id": "wHSFZV9WoFSn",
        "colab_type": "code",
        "colab": {}
      },
      "source": [
        "#Test_df_num = Test_df_num[selected_columns]\n",
        "#Test_df_num.shape"
      ],
      "execution_count": 0,
      "outputs": []
    },
    {
      "cell_type": "code",
      "metadata": {
        "id": "DsylICKEoFSo",
        "colab_type": "code",
        "colab": {}
      },
      "source": [
        ""
      ],
      "execution_count": 0,
      "outputs": []
    },
    {
      "cell_type": "markdown",
      "metadata": {
        "id": "idPumBkloFSq",
        "colab_type": "text"
      },
      "source": [
        "## Get X_train, Y_train and X_test  "
      ]
    },
    {
      "cell_type": "code",
      "metadata": {
        "id": "fD3wa2rcoFSq",
        "colab_type": "code",
        "colab": {}
      },
      "source": [
        "## X_train and Y_train\n",
        "#X_train_full = Train_df_filter.drop(columns='greatstone_rating', axis=1)\n",
        "#Y_train_full = Train_df_filter['greatstone_rating'].values\n",
        "\n",
        "X_train = Train_df_num.drop(columns='greatstone_rating', axis=1)\n",
        "Y_train = Train_df_num['greatstone_rating'].values"
      ],
      "execution_count": 0,
      "outputs": []
    },
    {
      "cell_type": "code",
      "metadata": {
        "id": "QoxjDYXqoFSr",
        "colab_type": "code",
        "colab": {}
      },
      "source": [
        "print(\"Full Training data shape: \", X_train.shape, Y_train.shape)"
      ],
      "execution_count": 0,
      "outputs": []
    },
    {
      "cell_type": "code",
      "metadata": {
        "id": "GnPE99p8oFSs",
        "colab_type": "code",
        "colab": {}
      },
      "source": [
        "#X_test_full = Test_df_filter.drop(columns=['greatstone_rating'], axis=1)\n",
        "\n",
        "X_test = Test_df_num.drop(columns=['greatstone_rating'], axis=1)\n",
        "print(\"Full Test data: \",X_test.shape)"
      ],
      "execution_count": 0,
      "outputs": []
    },
    {
      "cell_type": "markdown",
      "metadata": {
        "id": "CEuxuJlGvjrm",
        "colab_type": "text"
      },
      "source": [
        "#### Convert test label in one hot vector"
      ]
    },
    {
      "cell_type": "code",
      "metadata": {
        "id": "uY4WEjRFt2Yy",
        "colab_type": "code",
        "colab": {}
      },
      "source": [
        "#from tensorflow.keras import utils\n",
        "#n_classes = len(np.unique(Y_train))\n",
        "#print(\"Number of classed: \",n_classes)\n",
        "#Y_train = utils.to_categorical(Y_train, num_classes=n_classes)\n",
        "#Y_train"
      ],
      "execution_count": 0,
      "outputs": []
    },
    {
      "cell_type": "markdown",
      "metadata": {
        "id": "3SmUGp-goFSt",
        "colab_type": "text"
      },
      "source": [
        "### Data imbalance"
      ]
    },
    {
      "cell_type": "code",
      "metadata": {
        "id": "Q97M35MDoFSt",
        "colab_type": "code",
        "colab": {}
      },
      "source": [
        "class_0 = np.count_nonzero(Y_train == 0.0)\n",
        "class_1 = np.count_nonzero(Y_train == 1.0)\n",
        "class_2 = np.count_nonzero(Y_train == 2.0)\n",
        "class_3 = np.count_nonzero(Y_train == 3.0)\n",
        "class_4 = np.count_nonzero(Y_train == 4.0)\n",
        "class_5 = np.count_nonzero(Y_train == 5.0)\n",
        "\n",
        "print(\"Number data for each class: \")\n",
        "print(\"class_0: \",class_0)\n",
        "print(\"class_1: \",class_1)\n",
        "print(\"class_2: \",class_2)\n",
        "print(\"class_3: \",class_3)\n",
        "print(\"class_4: \",class_4)\n",
        "print(\"class_5: \",class_5)"
      ],
      "execution_count": 0,
      "outputs": []
    },
    {
      "cell_type": "code",
      "metadata": {
        "id": "k409bdneoFSu",
        "colab_type": "code",
        "colab": {}
      },
      "source": [
        "#from imblearn.over_sampling import SMOTE\n",
        "#smote = SMOTE()\n",
        "#X_train, Y_train = smote.fit_sample(X_train, Y_train)\n",
        "#print(\"Training length after smote: \", len(X_train), len(Y_train))"
      ],
      "execution_count": 0,
      "outputs": []
    },
    {
      "cell_type": "markdown",
      "metadata": {
        "id": "fASu1l92kiMj",
        "colab_type": "text"
      },
      "source": [
        "#### Convert test label in one hot vector"
      ]
    },
    {
      "cell_type": "code",
      "metadata": {
        "id": "y9JwPr9loFSv",
        "colab_type": "code",
        "colab": {}
      },
      "source": [
        "class_0 = np.count_nonzero(Y_train == 0.0)\n",
        "class_1 = np.count_nonzero(Y_train == 1.0)\n",
        "class_2 = np.count_nonzero(Y_train == 2.0)\n",
        "class_3 = np.count_nonzero(Y_train == 3.0)\n",
        "class_4 = np.count_nonzero(Y_train == 4.0)\n",
        "class_5 = np.count_nonzero(Y_train == 5.0)\n",
        "\n",
        "print(\"Number data for each class: \")\n",
        "print(\"class_0: \",class_0)\n",
        "print(\"class_1: \",class_1)\n",
        "print(\"class_2: \",class_2)\n",
        "print(\"class_3: \",class_3)\n",
        "print(\"class_4: \",class_4)\n",
        "print(\"class_5: \",class_5)"
      ],
      "execution_count": 0,
      "outputs": []
    },
    {
      "cell_type": "code",
      "metadata": {
        "id": "FD5ktvrjkUu1",
        "colab_type": "code",
        "colab": {}
      },
      "source": [
        "from tensorflow.keras import utils\n",
        "n_classes = len(np.unique(Y_train))\n",
        "print(\"Number of classed: \",n_classes)\n",
        "Y_train = utils.to_categorical(Y_train, num_classes=n_classes)\n",
        "Y_train"
      ],
      "execution_count": 0,
      "outputs": []
    },
    {
      "cell_type": "markdown",
      "metadata": {
        "id": "Iz6DXEzqoFSw",
        "colab_type": "text"
      },
      "source": [
        "### Apply standar scalar on full train and test data"
      ]
    },
    {
      "cell_type": "code",
      "metadata": {
        "id": "q_tDZt5WoFSw",
        "colab_type": "code",
        "colab": {}
      },
      "source": [
        "# StandardScaler\n",
        "std_scaler = StandardScaler()\n",
        "\n",
        "std_scaler.fit(X_train)\n",
        "\n",
        "X_train_scaled = std_scaler.transform(X_train)\n",
        "X_test_scaled = std_scaler.transform(X_test)"
      ],
      "execution_count": 0,
      "outputs": []
    },
    {
      "cell_type": "code",
      "metadata": {
        "id": "_n1F-dUtoFSx",
        "colab_type": "code",
        "colab": {}
      },
      "source": [
        "print(\"X_train_scaled shape: \", X_train_scaled.shape)\n",
        "print(\"X_test_scaled shape: \", X_test_scaled.shape)"
      ],
      "execution_count": 0,
      "outputs": []
    },
    {
      "cell_type": "markdown",
      "metadata": {
        "id": "-7l6H6WboFSy",
        "colab_type": "text"
      },
      "source": [
        "### Concat all numerical and categorical columns"
      ]
    },
    {
      "cell_type": "code",
      "metadata": {
        "id": "him8mZ_eoFSy",
        "colab_type": "code",
        "colab": {}
      },
      "source": [
        "X_train_scaled = pd.DataFrame(X_train_scaled)\n",
        "X_test_scaled = pd.DataFrame(X_test_scaled)"
      ],
      "execution_count": 0,
      "outputs": []
    },
    {
      "cell_type": "markdown",
      "metadata": {
        "id": "98FzmBOooFSz",
        "colab_type": "text"
      },
      "source": [
        "#### X_train_scaled combined with categorical features"
      ]
    },
    {
      "cell_type": "code",
      "metadata": {
        "id": "4WJR2eoRoFSz",
        "colab_type": "code",
        "colab": {}
      },
      "source": [
        "X_train_scaled = pd.concat([X_train_scaled, Train_df_cat],axis=1)\n",
        "X_train_scaled.shape"
      ],
      "execution_count": 0,
      "outputs": []
    },
    {
      "cell_type": "code",
      "metadata": {
        "id": "SsB9hjyczMKA",
        "colab_type": "code",
        "colab": {}
      },
      "source": [
        "X_train_scaled = X_train_scaled.to_numpy()\n",
        "X_train_scaled"
      ],
      "execution_count": 0,
      "outputs": []
    },
    {
      "cell_type": "markdown",
      "metadata": {
        "id": "3GPjJavloFS0",
        "colab_type": "text"
      },
      "source": [
        "#### X_test_scaled combined with categorical features"
      ]
    },
    {
      "cell_type": "code",
      "metadata": {
        "id": "TOSnKh40oFS0",
        "colab_type": "code",
        "colab": {}
      },
      "source": [
        "X_test_scaled = pd.concat([X_test_scaled, Test_df_cat],axis=1)\n",
        "X_test_scaled.shape"
      ],
      "execution_count": 0,
      "outputs": []
    },
    {
      "cell_type": "code",
      "metadata": {
        "id": "yAUmN_KFzNHz",
        "colab_type": "code",
        "colab": {}
      },
      "source": [
        "X_test_scaled = X_test_scaled.to_numpy()\n",
        "X_test_scaled"
      ],
      "execution_count": 0,
      "outputs": []
    },
    {
      "cell_type": "markdown",
      "metadata": {
        "id": "sL61-NG9oFS2",
        "colab_type": "text"
      },
      "source": [
        "## Apply PCA"
      ]
    },
    {
      "cell_type": "code",
      "metadata": {
        "id": "2ffPuuMBoFS2",
        "colab_type": "code",
        "colab": {}
      },
      "source": [
        "#pca = PCA()\n",
        "#pca.fit(X_train_scaled)"
      ],
      "execution_count": 0,
      "outputs": []
    },
    {
      "cell_type": "code",
      "metadata": {
        "id": "_qSPkkD1oFS3",
        "colab_type": "code",
        "colab": {}
      },
      "source": [
        "#pca.explained_variance_ratio_"
      ],
      "execution_count": 0,
      "outputs": []
    },
    {
      "cell_type": "code",
      "metadata": {
        "id": "v8CQpfuzoFS3",
        "colab_type": "code",
        "colab": {}
      },
      "source": [
        "#len(pca.explained_variance_ratio_)"
      ],
      "execution_count": 0,
      "outputs": []
    },
    {
      "cell_type": "code",
      "metadata": {
        "id": "fNbeh04xoFS4",
        "colab_type": "code",
        "colab": {}
      },
      "source": [
        "#X_train_pca = pca.transform(X_train_scaled)\n",
        "#X_test_pca = pca.transform(X_test_scaled)"
      ],
      "execution_count": 0,
      "outputs": []
    },
    {
      "cell_type": "code",
      "metadata": {
        "id": "lwj0GlyQoFS5",
        "colab_type": "code",
        "colab": {}
      },
      "source": [
        "#print(\"X_train_pca Shape: \",X_train_pca.shape)\n",
        "#print(\"X_test_pca Shape: \",X_test_pca.shape)"
      ],
      "execution_count": 0,
      "outputs": []
    },
    {
      "cell_type": "markdown",
      "metadata": {
        "id": "RHrKwA-joFS6",
        "colab_type": "text"
      },
      "source": [
        "# Build Neural Net"
      ]
    },
    {
      "cell_type": "code",
      "metadata": {
        "id": "Dk7rwSlVwcqa",
        "colab_type": "code",
        "colab": {}
      },
      "source": [
        "keras.backend.clear_session()"
      ],
      "execution_count": 0,
      "outputs": []
    },
    {
      "cell_type": "code",
      "metadata": {
        "id": "kcqrOkVJwgYp",
        "colab_type": "code",
        "colab": {}
      },
      "source": [
        "model = Sequential()\n",
        "\n",
        "#Dense layer\n",
        "model.add(Dense(units=254,  activation='relu'))\n",
        "model.add(Dense(units=127,  activation='relu'))\n",
        "model.add(Dense(units=64,  activation='relu'))\n",
        "model.add(Dense(units=30,  activation='relu'))\n",
        "\n",
        "#Output layer\n",
        "model.add(Dense(units=6,  activation='softmax'))\n"
      ],
      "execution_count": 0,
      "outputs": []
    },
    {
      "cell_type": "code",
      "metadata": {
        "id": "VdQ65woBwnfP",
        "colab_type": "code",
        "colab": {}
      },
      "source": [
        "model.compile(loss=\"categorical_crossentropy\", optimizer='adam', metrics=['accuracy'])\n",
        "model.fit(X_train_scaled, Y_train, epochs=100)"
      ],
      "execution_count": 0,
      "outputs": []
    },
    {
      "cell_type": "markdown",
      "metadata": {
        "id": "VV5YMte9oFTE",
        "colab_type": "text"
      },
      "source": [
        "### Training Score"
      ]
    },
    {
      "cell_type": "code",
      "metadata": {
        "id": "pUbVKO6XoFTE",
        "colab_type": "code",
        "colab": {}
      },
      "source": [
        "score = model.evaluate(X_train_scaled, Y_train)\n",
        "print(\"Training score: \",score)"
      ],
      "execution_count": 0,
      "outputs": []
    },
    {
      "cell_type": "markdown",
      "metadata": {
        "id": "2u5DxAapoFTF",
        "colab_type": "text"
      },
      "source": [
        "### Prediction"
      ]
    },
    {
      "cell_type": "code",
      "metadata": {
        "id": "zTtyupZ88UOE",
        "colab_type": "code",
        "colab": {}
      },
      "source": [
        "Y_pred2 = model.predict_classes(X_test_scaled)\n",
        "Y_pred2"
      ],
      "execution_count": 0,
      "outputs": []
    },
    {
      "cell_type": "code",
      "metadata": {
        "id": "G_vg40y1oFTG",
        "colab_type": "code",
        "colab": {}
      },
      "source": [
        "submit_df['greatstone_rating'] = Y_pred2"
      ],
      "execution_count": 0,
      "outputs": []
    },
    {
      "cell_type": "code",
      "metadata": {
        "id": "UomC_apOoFTH",
        "colab_type": "code",
        "colab": {}
      },
      "source": [
        "submit_df.set_index(keys='fund_id',inplace=True)"
      ],
      "execution_count": 0,
      "outputs": []
    },
    {
      "cell_type": "code",
      "metadata": {
        "id": "BwY_VXQvoFTI",
        "colab_type": "code",
        "colab": {}
      },
      "source": [
        "submit_df.head()"
      ],
      "execution_count": 0,
      "outputs": []
    },
    {
      "cell_type": "code",
      "metadata": {
        "id": "IJmUWY33JtXp",
        "colab_type": "code",
        "colab": {}
      },
      "source": [
        "!rm submission_nn.csv"
      ],
      "execution_count": 0,
      "outputs": []
    },
    {
      "cell_type": "code",
      "metadata": {
        "id": "1IEAPFDPoFTK",
        "colab_type": "code",
        "colab": {}
      },
      "source": [
        "submit_df.to_csv(\"submission_nn.csv\")"
      ],
      "execution_count": 0,
      "outputs": []
    },
    {
      "cell_type": "code",
      "metadata": {
        "id": "D9E1zVz4oFTL",
        "colab_type": "code",
        "colab": {}
      },
      "source": [
        "!ls"
      ],
      "execution_count": 0,
      "outputs": []
    },
    {
      "cell_type": "code",
      "metadata": {
        "id": "wZMZiBE_oFTO",
        "colab_type": "code",
        "colab": {}
      },
      "source": [
        "from google.colab import files\n",
        "files.download(\"submission_nn.csv\")"
      ],
      "execution_count": 0,
      "outputs": []
    },
    {
      "cell_type": "code",
      "metadata": {
        "id": "L98JSbwp90lq",
        "colab_type": "code",
        "colab": {}
      },
      "source": [
        ""
      ],
      "execution_count": 0,
      "outputs": []
    }
  ]
}