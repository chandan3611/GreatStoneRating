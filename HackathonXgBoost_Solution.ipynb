{
  "nbformat": 4,
  "nbformat_minor": 0,
  "metadata": {
    "kernelspec": {
      "display_name": "Python 3",
      "language": "python",
      "name": "python3"
    },
    "language_info": {
      "codemirror_mode": {
        "name": "ipython",
        "version": 3
      },
      "file_extension": ".py",
      "mimetype": "text/x-python",
      "name": "python",
      "nbconvert_exporter": "python",
      "pygments_lexer": "ipython3",
      "version": "3.7.3"
    },
    "colab": {
      "name": "Hackathon14_Preproc_XgBoost.ipynb",
      "provenance": [],
      "collapsed_sections": []
    }
  },
  "cells": [
    {
      "cell_type": "markdown",
      "metadata": {
        "id": "_Qx7baJ4BQpG",
        "colab_type": "text"
      },
      "source": [
        "# Imports"
      ]
    },
    {
      "cell_type": "code",
      "metadata": {
        "id": "Bo2frSCrBQpH",
        "colab_type": "code",
        "colab": {}
      },
      "source": [
        "import pandas as pd\n",
        "import numpy as np\n",
        "from functools import reduce\n",
        "import seaborn as sns\n",
        "import matplotlib.pyplot as plt\n",
        "from sklearn.model_selection import RandomizedSearchCV, GridSearchCV\n",
        "from sklearn.preprocessing import StandardScaler\n",
        "import xgboost as xgb\n",
        "from sklearn.model_selection import cross_val_score, KFold\n",
        "import string\n",
        "from sklearn.preprocessing import LabelEncoder\n",
        "from sklearn.svm import SVC\n",
        "from sklearn.feature_selection import SelectKBest\n",
        "from sklearn.feature_selection import chi2\n",
        "from sklearn.model_selection import train_test_split\n",
        "from sklearn.decomposition import PCA\n",
        "import datetime"
      ],
      "execution_count": 0,
      "outputs": []
    },
    {
      "cell_type": "code",
      "metadata": {
        "id": "iGfdQHZVBZmF",
        "colab_type": "code",
        "colab": {}
      },
      "source": [
        "from google.colab import drive\n",
        "drive.mount(\"/gdrive\")"
      ],
      "execution_count": 0,
      "outputs": []
    },
    {
      "cell_type": "markdown",
      "metadata": {
        "id": "HlDqgpX7BQpM",
        "colab_type": "text"
      },
      "source": [
        "# Read csv file"
      ]
    },
    {
      "cell_type": "code",
      "metadata": {
        "id": "4IlimarFBQpN",
        "colab_type": "code",
        "colab": {}
      },
      "source": [
        "bond_ratings_df = pd.read_csv(\"/gdrive/My Drive/Colab Notebooks/Hackathon/bond_ratings.csv\")\n",
        "fund_allocations_df = pd.read_csv(\"/gdrive/My Drive/Colab Notebooks/Hackathon/fund_allocations.csv\")\n",
        "fund_config_df = pd.read_csv(\"/gdrive/My Drive/Colab Notebooks/Hackathon/fund_config.csv\")\n",
        "fund_ratios_df = pd.read_csv(\"/gdrive/My Drive/Colab Notebooks/Hackathon/fund_ratios.csv\")\n",
        "fund_specs_df = pd.read_csv(\"/gdrive/My Drive/Colab Notebooks/Hackathon/fund_specs.csv\")\n",
        "other_specs_df = pd.read_csv(\"/gdrive/My Drive/Colab Notebooks/Hackathon/other_specs.csv\")\n",
        "return_3year_df = pd.read_csv(\"/gdrive/My Drive/Colab Notebooks/Hackathon/return_3year.csv\")\n",
        "return_5year_df = pd.read_csv(\"/gdrive/My Drive/Colab Notebooks/Hackathon/return_5year.csv\")\n",
        "return_10year_df = pd.read_csv(\"/gdrive/My Drive/Colab Notebooks/Hackathon/return_10year.csv\")\n",
        "submission_df = pd.read_csv(\"/gdrive/My Drive/Colab Notebooks/Hackathon/sample_submission.csv\")"
      ],
      "execution_count": 0,
      "outputs": []
    },
    {
      "cell_type": "markdown",
      "metadata": {
        "id": "LGEgJsFCBQpQ",
        "colab_type": "text"
      },
      "source": [
        "# bond_ratings_df"
      ]
    },
    {
      "cell_type": "code",
      "metadata": {
        "id": "Wu5lfgv9BQpQ",
        "colab_type": "code",
        "colab": {}
      },
      "source": [
        "#bond_ratings_df.info()"
      ],
      "execution_count": 0,
      "outputs": []
    },
    {
      "cell_type": "code",
      "metadata": {
        "id": "W834kcoNBQpU",
        "colab_type": "code",
        "colab": {}
      },
      "source": [
        "#bond_ratings_df.describe().T"
      ],
      "execution_count": 0,
      "outputs": []
    },
    {
      "cell_type": "markdown",
      "metadata": {
        "id": "47SJcZ1dBQpW",
        "colab_type": "text"
      },
      "source": [
        "#### Drop \"us_govt_bond_rating\" column because all value is zero."
      ]
    },
    {
      "cell_type": "code",
      "metadata": {
        "id": "br8GvfovBQpX",
        "colab_type": "code",
        "colab": {}
      },
      "source": [
        "bond_ratings_df.drop(labels = ['us_govt_bond_rating'], axis=1, inplace=True)\n",
        "#bond_ratings_df.info()"
      ],
      "execution_count": 0,
      "outputs": []
    },
    {
      "cell_type": "code",
      "metadata": {
        "id": "P81lRdWSBQpb",
        "colab_type": "code",
        "colab": {}
      },
      "source": [
        "#bond_ratings_df.hist(figsize=(15,10), bins=50)"
      ],
      "execution_count": 0,
      "outputs": []
    },
    {
      "cell_type": "code",
      "metadata": {
        "id": "DXdGcKVNBQpe",
        "colab_type": "code",
        "colab": {}
      },
      "source": [
        "#For few columns median is zero hence fill NaN with mean\n",
        "for col in bond_ratings_df.columns:\n",
        "    if col != 'fund_id':\n",
        "        bond_ratings_df[col] = bond_ratings_df[col].fillna(bond_ratings_df[col].mean())\n",
        "        #bond_ratings_df[col] = bond_ratings_df[col].fillna(bond_ratings_df[col].median())\n",
        "\n",
        "#bond_ratings_df.isna().sum()"
      ],
      "execution_count": 0,
      "outputs": []
    },
    {
      "cell_type": "markdown",
      "metadata": {
        "id": "_om0I-_HBQpg",
        "colab_type": "text"
      },
      "source": [
        "# fund_allocations_df"
      ]
    },
    {
      "cell_type": "code",
      "metadata": {
        "id": "EMIfWYzaBQph",
        "colab_type": "code",
        "colab": {}
      },
      "source": [
        "#fund_allocations_df.info()"
      ],
      "execution_count": 0,
      "outputs": []
    },
    {
      "cell_type": "code",
      "metadata": {
        "id": "6jpGRLs_BQpj",
        "colab_type": "code",
        "colab": {}
      },
      "source": [
        "#fund_allocations_df.describe().T"
      ],
      "execution_count": 0,
      "outputs": []
    },
    {
      "cell_type": "code",
      "metadata": {
        "id": "G7ewaxlmBQpl",
        "colab_type": "code",
        "colab": {}
      },
      "source": [
        "#fund_allocations_df.hist(figsize=(15,10), bins=20)"
      ],
      "execution_count": 0,
      "outputs": []
    },
    {
      "cell_type": "code",
      "metadata": {
        "id": "m-YrQa4ABQpm",
        "colab_type": "code",
        "colab": {}
      },
      "source": [
        "#Fill Nan with mean for non categorical variable\n",
        "for col in fund_allocations_df.columns:\n",
        "    if col != 'fund_id':\n",
        "        fund_allocations_df[col] = fund_allocations_df[col].fillna(fund_allocations_df[col].median())\n",
        "\n",
        "#fund_allocations_df.isna().sum()"
      ],
      "execution_count": 0,
      "outputs": []
    },
    {
      "cell_type": "code",
      "metadata": {
        "id": "hbCiYH25BQpq",
        "colab_type": "code",
        "colab": {}
      },
      "source": [
        "fund_allocations_df.rename(columns={'id':'tag'},inplace=True)"
      ],
      "execution_count": 0,
      "outputs": []
    },
    {
      "cell_type": "code",
      "metadata": {
        "id": "boqy2ryPBQps",
        "colab_type": "code",
        "colab": {}
      },
      "source": [
        ""
      ],
      "execution_count": 0,
      "outputs": []
    },
    {
      "cell_type": "markdown",
      "metadata": {
        "id": "JKVWtSkaBQpu",
        "colab_type": "text"
      },
      "source": [
        "# fund_config_df"
      ]
    },
    {
      "cell_type": "code",
      "metadata": {
        "id": "QDPbXaESBQpv",
        "colab_type": "code",
        "colab": {}
      },
      "source": [
        "#fund_config_df.info()"
      ],
      "execution_count": 0,
      "outputs": []
    },
    {
      "cell_type": "code",
      "metadata": {
        "id": "QPh3e1aaBQpw",
        "colab_type": "code",
        "colab": {}
      },
      "source": [
        "print(\"Number of category: \",fund_config_df['category'].nunique())\n",
        "print(\"Number of parent_company: \",fund_config_df['parent_company'].nunique())\n",
        "print(\"Number of fund_name: \",fund_config_df['fund_name'].nunique())"
      ],
      "execution_count": 0,
      "outputs": []
    },
    {
      "cell_type": "code",
      "metadata": {
        "id": "_GKalREvBQpy",
        "colab_type": "code",
        "colab": {}
      },
      "source": [
        "fund_config_df.head()"
      ],
      "execution_count": 0,
      "outputs": []
    },
    {
      "cell_type": "markdown",
      "metadata": {
        "id": "Cr2AUni0BQp1",
        "colab_type": "text"
      },
      "source": [
        "### Apply label encoding: Lots of category present in fund_config_df, if one hot encoding is applied then final dataframe will be become sparse, hence first trying only with label encoding"
      ]
    },
    {
      "cell_type": "code",
      "metadata": {
        "id": "fn8oCegvBQp2",
        "colab_type": "code",
        "colab": {}
      },
      "source": [
        "labelencoder = LabelEncoder()\n",
        "fund_config_df['category'] = labelencoder.fit_transform(fund_config_df['category'])\n",
        "fund_config_df['parent_company'] = labelencoder.fit_transform(fund_config_df['parent_company'])\n",
        "fund_config_df['fund_name'] = labelencoder.fit_transform(fund_config_df['fund_name'])\n",
        "fund_config_df.head()"
      ],
      "execution_count": 0,
      "outputs": []
    },
    {
      "cell_type": "code",
      "metadata": {
        "id": "FZUgLHnXBQp4",
        "colab_type": "code",
        "colab": {}
      },
      "source": [
        "#fund_config_df.hist(figsize=(15,10), bins=50)"
      ],
      "execution_count": 0,
      "outputs": []
    },
    {
      "cell_type": "markdown",
      "metadata": {
        "id": "MZj6jAJSBQp5",
        "colab_type": "text"
      },
      "source": [
        "# fund_ratios_df"
      ]
    },
    {
      "cell_type": "code",
      "metadata": {
        "id": "YMgboU7bBQp6",
        "colab_type": "code",
        "colab": {}
      },
      "source": [
        "#fund_ratios_df.info()"
      ],
      "execution_count": 0,
      "outputs": []
    },
    {
      "cell_type": "code",
      "metadata": {
        "id": "OUiLkArjBQp9",
        "colab_type": "code",
        "colab": {}
      },
      "source": [
        "#fund_ratios_df.describe().T"
      ],
      "execution_count": 0,
      "outputs": []
    },
    {
      "cell_type": "code",
      "metadata": {
        "id": "wuyNMv0DBQp_",
        "colab_type": "code",
        "colab": {}
      },
      "source": [
        "# Change dtype from \"object\" to \"float\"\n",
        "for col in fund_ratios_df.select_dtypes(include='object').columns:\n",
        "    if col != 'fund_id':\n",
        "        fund_ratios_df[col] = fund_ratios_df[col].str.replace(',', '')\n",
        "        fund_ratios_df[col] = fund_ratios_df[col].astype(\"float64\")"
      ],
      "execution_count": 0,
      "outputs": []
    },
    {
      "cell_type": "code",
      "metadata": {
        "id": "-2HXg-04BQqA",
        "colab_type": "code",
        "colab": {}
      },
      "source": [
        "#fund_ratios_df.describe().T"
      ],
      "execution_count": 0,
      "outputs": []
    },
    {
      "cell_type": "code",
      "metadata": {
        "id": "RGzWUNXbBQqC",
        "colab_type": "code",
        "colab": {}
      },
      "source": [
        "#Fill Nan with mean for non categorical variable\n",
        "for col in fund_ratios_df.columns:\n",
        "    if col != 'fund_id':\n",
        "        fund_ratios_df[col] = fund_ratios_df[col].fillna(fund_ratios_df[col].median())\n",
        "\n",
        "#fund_ratios_df.isna().sum()"
      ],
      "execution_count": 0,
      "outputs": []
    },
    {
      "cell_type": "code",
      "metadata": {
        "id": "9-cIw8WOBQqE",
        "colab_type": "code",
        "colab": {}
      },
      "source": [
        "#fund_ratios_df.hist(figsize=(15,10), bins=50)"
      ],
      "execution_count": 0,
      "outputs": []
    },
    {
      "cell_type": "markdown",
      "metadata": {
        "id": "3VCUvCMCBQqH",
        "colab_type": "text"
      },
      "source": [
        "# fund_specs_df"
      ]
    },
    {
      "cell_type": "code",
      "metadata": {
        "id": "XwHbivL6BQqI",
        "colab_type": "code",
        "colab": {}
      },
      "source": [
        "#fund_specs_df.info()"
      ],
      "execution_count": 0,
      "outputs": []
    },
    {
      "cell_type": "markdown",
      "metadata": {
        "id": "aL3AmcnwBQqL",
        "colab_type": "text"
      },
      "source": [
        "### Convert \"inception_date\""
      ]
    },
    {
      "cell_type": "code",
      "metadata": {
        "id": "y4tzyQX3BQqL",
        "colab_type": "code",
        "colab": {}
      },
      "source": [
        "fund_specs_df['inception_date'] = pd.to_datetime(fund_specs_df['inception_date'])"
      ],
      "execution_count": 0,
      "outputs": []
    },
    {
      "cell_type": "markdown",
      "metadata": {
        "id": "Q58dsNqaBQqN",
        "colab_type": "text"
      },
      "source": [
        "### Get Month, day, year, quarter, semester from \"inception_date\""
      ]
    },
    {
      "cell_type": "code",
      "metadata": {
        "id": "Qgn4ODVdBQqN",
        "colab_type": "code",
        "colab": {}
      },
      "source": [
        "fund_specs_df['Inception_Month'] = fund_specs_df['inception_date'].dt.month\n",
        "#fund_specs_df['Inception_Day'] = fund_specs_df['inception_date'].dt.day\n",
        "fund_specs_df['Inception_Year'] = fund_specs_df['inception_date'].dt.year\n",
        "#fund_specs_df['Dayofweek'] = fund_specs_df['inception_date'].dt.dayofweek"
      ],
      "execution_count": 0,
      "outputs": []
    },
    {
      "cell_type": "markdown",
      "metadata": {
        "id": "ldNkNYLKBQqP",
        "colab_type": "text"
      },
      "source": [
        "### Quarter and Semester"
      ]
    },
    {
      "cell_type": "code",
      "metadata": {
        "id": "Ylbt-ktxBQqP",
        "colab_type": "code",
        "colab": {}
      },
      "source": [
        "fund_specs_df['Quarter'] = fund_specs_df['inception_date'].dt.quarter\n",
        "#fund_specs_df['Semester'] = np.where(fund_specs_df['Quarter'].isin([1,2]),1,2)"
      ],
      "execution_count": 0,
      "outputs": []
    },
    {
      "cell_type": "markdown",
      "metadata": {
        "id": "tyaTi98aBQqS",
        "colab_type": "text"
      },
      "source": [
        "### Weekend or not"
      ]
    },
    {
      "cell_type": "code",
      "metadata": {
        "id": "3Rl-zibLBQqS",
        "colab_type": "code",
        "colab": {}
      },
      "source": [
        "#fund_specs_df['Weekday_name'] = fund_specs_df['inception_date'].dt.weekday_name\n",
        "#fund_specs_df['is_weekend'] = np.where(fund_specs_df['Weekday_name'].isin(['Sunday','Saturday']),1,0)\n",
        "#fund_specs_df[['Weekday_name', \"is_weekend\"]].head()"
      ],
      "execution_count": 0,
      "outputs": []
    },
    {
      "cell_type": "code",
      "metadata": {
        "id": "sUv_Rg5LBQqU",
        "colab_type": "code",
        "colab": {}
      },
      "source": [
        "#fund_specs_df['is_weekend'].value_counts()"
      ],
      "execution_count": 0,
      "outputs": []
    },
    {
      "cell_type": "markdown",
      "metadata": {
        "id": "NHGNyVQXBQqW",
        "colab_type": "text"
      },
      "source": [
        "### Difference between today and inception data"
      ]
    },
    {
      "cell_type": "code",
      "metadata": {
        "id": "VkAY4Lw1BQqX",
        "colab_type": "code",
        "colab": {}
      },
      "source": [
        "fund_specs_df[\"InceptionDate_diff\"] = (datetime.datetime.today() - fund_specs_df['inception_date'])\n",
        "fund_specs_df[\"InceptionDate_diff\"] = fund_specs_df[\"InceptionDate_diff\"]/np.timedelta64(1,'D')"
      ],
      "execution_count": 0,
      "outputs": []
    },
    {
      "cell_type": "code",
      "metadata": {
        "id": "6k3n25CaBQqY",
        "colab_type": "code",
        "colab": {}
      },
      "source": [
        "fund_specs_df.head()"
      ],
      "execution_count": 0,
      "outputs": []
    },
    {
      "cell_type": "markdown",
      "metadata": {
        "id": "-5vzL1sqBQqa",
        "colab_type": "text"
      },
      "source": [
        "### Apply one hot encoding"
      ]
    },
    {
      "cell_type": "code",
      "metadata": {
        "id": "i5I3cFKnBQqb",
        "colab_type": "code",
        "colab": {}
      },
      "source": [
        "Inception_Month = pd.get_dummies(fund_specs_df['Inception_Month'], drop_first=True,prefix=\"Month\")\n",
        "#Dayofweek = pd.get_dummies(fund_specs_df['Dayofweek'], drop_first=True, prefix=\"Day\")\n",
        "Quarter = pd.get_dummies(fund_specs_df['Quarter'], drop_first=True, prefix=\"Qua\")\n",
        "#Semester = pd.get_dummies(fund_specs_df['Semester'], drop_first=True, prefix=\"Sem\")\n",
        "Inception_Year = pd.get_dummies(fund_specs_df['Inception_Year'], drop_first=True, prefix=\"Year\")"
      ],
      "execution_count": 0,
      "outputs": []
    },
    {
      "cell_type": "markdown",
      "metadata": {
        "id": "jzG_ItgaBQqh",
        "colab_type": "text"
      },
      "source": [
        "### Apply label only encoding"
      ]
    },
    {
      "cell_type": "code",
      "metadata": {
        "id": "YhgMgasFBQqh",
        "colab_type": "code",
        "colab": {}
      },
      "source": [
        "#labEnc = LabelEncoder()\n",
        "#fund_specs_df['Inception_Day'] = labEnc.fit_transform(fund_specs_df['Inception_Day'])\n",
        "#fund_specs_df['Inception_Year'] = labEnc.fit_transform(fund_specs_df['Inception_Year'])"
      ],
      "execution_count": 0,
      "outputs": []
    },
    {
      "cell_type": "code",
      "metadata": {
        "id": "pW4iDNPFBQql",
        "colab_type": "code",
        "colab": {}
      },
      "source": [
        "#fund_specs_df.info()"
      ],
      "execution_count": 0,
      "outputs": []
    },
    {
      "cell_type": "code",
      "metadata": {
        "id": "wmylb3It6_Pd",
        "colab_type": "code",
        "colab": {}
      },
      "source": [
        ""
      ],
      "execution_count": 0,
      "outputs": []
    },
    {
      "cell_type": "markdown",
      "metadata": {
        "id": "cHhcgMmZBQqn",
        "colab_type": "text"
      },
      "source": [
        "### Concat categorical variable"
      ]
    },
    {
      "cell_type": "code",
      "metadata": {
        "id": "H-vDTTxMBQqo",
        "colab_type": "code",
        "colab": {}
      },
      "source": [
        "#fund_specs_df_cat = pd.concat([Inception_Month, Dayofweek, Quarter, Semester], axis=1)\n",
        "fund_specs_df_cat = pd.concat([Inception_Month, Quarter, Inception_Year], axis=1)\n",
        "fund_specs_df_cat.shape"
      ],
      "execution_count": 0,
      "outputs": []
    },
    {
      "cell_type": "code",
      "metadata": {
        "id": "1_icQwJsBQqs",
        "colab_type": "code",
        "colab": {}
      },
      "source": [
        "#fund_specs_df.hist(figsize=(20,10), bins=50)"
      ],
      "execution_count": 0,
      "outputs": []
    },
    {
      "cell_type": "code",
      "metadata": {
        "id": "Eh4fPNNgBQqv",
        "colab_type": "code",
        "colab": {}
      },
      "source": [
        "#fund_specs_df.describe().T"
      ],
      "execution_count": 0,
      "outputs": []
    },
    {
      "cell_type": "code",
      "metadata": {
        "id": "VnSkGTY7BQqx",
        "colab_type": "code",
        "colab": {}
      },
      "source": [
        "Target_label = fund_specs_df[['tag', 'greatstone_rating']]\n",
        "print(Target_label.shape)\n",
        "Target_label.head()"
      ],
      "execution_count": 0,
      "outputs": []
    },
    {
      "cell_type": "code",
      "metadata": {
        "id": "qapIv4tzBQqz",
        "colab_type": "code",
        "colab": {}
      },
      "source": [
        "fund_specs_df.head()"
      ],
      "execution_count": 0,
      "outputs": []
    },
    {
      "cell_type": "code",
      "metadata": {
        "id": "L_xp-405BQq1",
        "colab_type": "code",
        "colab": {}
      },
      "source": [
        "# Drop target label(greatstone_rating) and inception_date column\n",
        "#fund_specs_df.drop(labels=['greatstone_rating', 'inception_date', \"Weekday_name\"], axis=1,inplace=True)\n",
        "fund_specs_df.drop(labels=['greatstone_rating', 'inception_date', \"Inception_Month\",  \"Quarter\"], axis=1,inplace=True)"
      ],
      "execution_count": 0,
      "outputs": []
    },
    {
      "cell_type": "code",
      "metadata": {
        "id": "GsYHrF5HBQq4",
        "colab_type": "code",
        "colab": {}
      },
      "source": [
        "#Fill Nan with mean for non categorical variable\n",
        "for col in fund_specs_df.select_dtypes(exclude='object').columns:\n",
        "    fund_specs_df[col] = fund_specs_df[col].fillna(fund_specs_df[col].median())\n",
        "    \n",
        "\n",
        "# Fill NaN with mode for categorical variable\n",
        "for col in fund_specs_df.select_dtypes(include='object').columns:\n",
        "    fund_specs_df[col] = fund_specs_df[col].fillna(fund_specs_df[col].mode()[0])"
      ],
      "execution_count": 0,
      "outputs": []
    },
    {
      "cell_type": "code",
      "metadata": {
        "id": "Aaj0dfl9BQq6",
        "colab_type": "code",
        "colab": {}
      },
      "source": [
        "#fund_specs_df.isna().sum()"
      ],
      "execution_count": 0,
      "outputs": []
    },
    {
      "cell_type": "code",
      "metadata": {
        "id": "hqvKF6AcBQq-",
        "colab_type": "code",
        "colab": {}
      },
      "source": [
        "#fund_specs_df.hist(figsize=(10,8), bins=50)"
      ],
      "execution_count": 0,
      "outputs": []
    },
    {
      "cell_type": "code",
      "metadata": {
        "id": "1pPNJEAnBQq_",
        "colab_type": "code",
        "colab": {}
      },
      "source": [
        ""
      ],
      "execution_count": 0,
      "outputs": []
    },
    {
      "cell_type": "markdown",
      "metadata": {
        "id": "bxScuMmABQrB",
        "colab_type": "text"
      },
      "source": [
        "### Merge target variable to fund_specs_df"
      ]
    },
    {
      "cell_type": "code",
      "metadata": {
        "id": "Aozb4-99BQrB",
        "colab_type": "code",
        "colab": {}
      },
      "source": [
        "fund_specs_df = pd.merge(left=fund_specs_df, right=Target_label, on=['tag'], how='outer')"
      ],
      "execution_count": 0,
      "outputs": []
    },
    {
      "cell_type": "code",
      "metadata": {
        "id": "kZ-BHI9GBQrC",
        "colab_type": "code",
        "colab": {}
      },
      "source": [
        "fund_specs_df.head()"
      ],
      "execution_count": 0,
      "outputs": []
    },
    {
      "cell_type": "code",
      "metadata": {
        "id": "GSVxiJb_BQrE",
        "colab_type": "code",
        "colab": {}
      },
      "source": [
        "investment_class = pd.get_dummies(fund_specs_df['investment_class'],drop_first=True)\n",
        "currency = pd.get_dummies(fund_specs_df['currency'],drop_first=True)\n",
        "fund_size = pd.get_dummies(fund_specs_df['fund_size'],drop_first=True)\n",
        "\n",
        "print('shape of investment_class: ',investment_class.shape)\n",
        "print('shape of currency: ',currency.shape)\n",
        "print('shape of fund_size: ',fund_size.shape)"
      ],
      "execution_count": 0,
      "outputs": []
    },
    {
      "cell_type": "code",
      "metadata": {
        "id": "LT85tMMYBQrG",
        "colab_type": "code",
        "colab": {}
      },
      "source": [
        "cat_var_encoded = pd.concat([investment_class, currency, fund_size], axis=1)\n",
        "cat_var_encoded.shape"
      ],
      "execution_count": 0,
      "outputs": []
    },
    {
      "cell_type": "markdown",
      "metadata": {
        "id": "GEuDADTsBQrJ",
        "colab_type": "text"
      },
      "source": [
        "### Drop original columns after one hot encoding"
      ]
    },
    {
      "cell_type": "code",
      "metadata": {
        "id": "Gry-i3FPBQrJ",
        "colab_type": "code",
        "colab": {}
      },
      "source": [
        "fund_specs_df.drop(['investment_class', 'currency', 'fund_size'], axis=1, inplace=True)\n",
        "fund_specs_df.shape"
      ],
      "execution_count": 0,
      "outputs": []
    },
    {
      "cell_type": "code",
      "metadata": {
        "id": "T0W8Fa9gBQrO",
        "colab_type": "code",
        "colab": {}
      },
      "source": [
        "fund_specs_df.head()"
      ],
      "execution_count": 0,
      "outputs": []
    },
    {
      "cell_type": "code",
      "metadata": {
        "id": "Dqi63RjtBQrQ",
        "colab_type": "code",
        "colab": {}
      },
      "source": [
        "#fund_specs_df.isna().sum()"
      ],
      "execution_count": 0,
      "outputs": []
    },
    {
      "cell_type": "code",
      "metadata": {
        "id": "eSwiJJRZBQrT",
        "colab_type": "code",
        "colab": {}
      },
      "source": [
        "#fund_specs_df.hist(figsize=(15,10), bins=20)"
      ],
      "execution_count": 0,
      "outputs": []
    },
    {
      "cell_type": "markdown",
      "metadata": {
        "id": "TfUAlJ-_BQrV",
        "colab_type": "text"
      },
      "source": [
        "# other_specs_df"
      ]
    },
    {
      "cell_type": "code",
      "metadata": {
        "id": "YoxOJN15BQrV",
        "colab_type": "code",
        "colab": {}
      },
      "source": [
        "#other_specs_df.info()"
      ],
      "execution_count": 0,
      "outputs": []
    },
    {
      "cell_type": "code",
      "metadata": {
        "id": "qXjKjECdBQrX",
        "colab_type": "code",
        "colab": {}
      },
      "source": [
        "#other_specs_df.describe().T"
      ],
      "execution_count": 0,
      "outputs": []
    },
    {
      "cell_type": "code",
      "metadata": {
        "id": "SkujQt2PBQrZ",
        "colab_type": "code",
        "colab": {}
      },
      "source": [
        "# Change dtype from \"object\" to \"float\"\n",
        "for col in other_specs_df.select_dtypes(include='object').columns:\n",
        "    other_specs_df[col] = other_specs_df[col].str.replace(',', '')\n",
        "    other_specs_df[col] = other_specs_df[col].astype(\"float64\")"
      ],
      "execution_count": 0,
      "outputs": []
    },
    {
      "cell_type": "code",
      "metadata": {
        "id": "5hqP3aJCBQrc",
        "colab_type": "code",
        "colab": {}
      },
      "source": [
        "# Few features has zero median value, hence fill Nan with mean for non categorical variable\n",
        "for col in other_specs_df.columns:\n",
        "    other_specs_df[col] = other_specs_df[col].fillna(other_specs_df[col].mean())\n",
        "\n",
        "#other_specs_df.isna().sum()"
      ],
      "execution_count": 0,
      "outputs": []
    },
    {
      "cell_type": "code",
      "metadata": {
        "id": "KG5fi7G1BQrf",
        "colab_type": "code",
        "colab": {}
      },
      "source": [
        "#other_specs_df.hist(figsize=(20,30), bins=20, layout=(11,5))"
      ],
      "execution_count": 0,
      "outputs": []
    },
    {
      "cell_type": "markdown",
      "metadata": {
        "id": "mJc8gLlCBQri",
        "colab_type": "text"
      },
      "source": [
        "# return_3year_df"
      ]
    },
    {
      "cell_type": "code",
      "metadata": {
        "id": "HCgvyXBlBQri",
        "colab_type": "code",
        "colab": {}
      },
      "source": [
        "#return_3year_df.info()"
      ],
      "execution_count": 0,
      "outputs": []
    },
    {
      "cell_type": "code",
      "metadata": {
        "id": "7vka1cJ4BQrk",
        "colab_type": "code",
        "colab": {}
      },
      "source": [
        "#return_3year_df.describe().T"
      ],
      "execution_count": 0,
      "outputs": []
    },
    {
      "cell_type": "code",
      "metadata": {
        "id": "aUtMCTrXBQrl",
        "colab_type": "code",
        "colab": {}
      },
      "source": [
        "# Change dtype from \"object\" to \"float\"\n",
        "for col in return_3year_df.select_dtypes(include='object').columns:\n",
        "    return_3year_df[col] = return_3year_df[col].str.replace(',', '')\n",
        "    return_3year_df[col] = return_3year_df[col].astype(\"float64\")"
      ],
      "execution_count": 0,
      "outputs": []
    },
    {
      "cell_type": "code",
      "metadata": {
        "id": "hW1J79LeBQrn",
        "colab_type": "code",
        "colab": {}
      },
      "source": [
        "#Fill Nan with mean for non categorical variable\n",
        "for col in return_3year_df.columns:\n",
        "    return_3year_df[col] = return_3year_df[col].fillna(return_3year_df[col].median())\n",
        "\n",
        "#return_3year_df.isna().sum()"
      ],
      "execution_count": 0,
      "outputs": []
    },
    {
      "cell_type": "code",
      "metadata": {
        "id": "rnfHH7_RBQro",
        "colab_type": "code",
        "colab": {}
      },
      "source": [
        "#return_3year_df.hist(figsize=(20,30))"
      ],
      "execution_count": 0,
      "outputs": []
    },
    {
      "cell_type": "markdown",
      "metadata": {
        "id": "sIKNDr-uBQrq",
        "colab_type": "text"
      },
      "source": [
        "### Apply One hot encoding"
      ]
    },
    {
      "cell_type": "code",
      "metadata": {
        "id": "kaM4YcFNBQrq",
        "colab_type": "code",
        "colab": {}
      },
      "source": [
        "#annual_mean_3yr = pd.get_dummies(return_3year_df['3_years_return_mean_annual_category'],drop_first=True, prefix=\"annual_mean_3yr\")\n",
        "#sharpe_ratio_3yr = pd.get_dummies(return_3year_df['3yrs_sharpe_ratio_category'], drop_first=True, prefix=\"sharpe_ratio_3yr\")\n",
        "#beta_3yr = pd.get_dummies(return_3year_df['category_beta_3years'], prefix=\"beta_3yr\", drop_first=True)"
      ],
      "execution_count": 0,
      "outputs": []
    },
    {
      "cell_type": "code",
      "metadata": {
        "id": "TTGhkIYmBQrr",
        "colab_type": "code",
        "colab": {}
      },
      "source": [
        "#print(\"Shape of annual_mean_3yr\",annual_mean_3yr.shape)\n",
        "#print(\"Shape of sharpe_ratio_3yr\",sharpe_ratio_3yr.shape)\n",
        "#print(\"Shape of beta_3yr\",beta_3yr.shape)"
      ],
      "execution_count": 0,
      "outputs": []
    },
    {
      "cell_type": "markdown",
      "metadata": {
        "id": "QzjV_orgBQrt",
        "colab_type": "text"
      },
      "source": [
        "### Concat all categorical columns"
      ]
    },
    {
      "cell_type": "code",
      "metadata": {
        "id": "bx-P6i1cBQrt",
        "colab_type": "code",
        "colab": {}
      },
      "source": [
        "#return_3year_df_cat = pd.concat([annual_mean_3yr, sharpe_ratio_3yr, beta_3yr], axis=1)\n",
        "#return_3year_df_cat.shape"
      ],
      "execution_count": 0,
      "outputs": []
    },
    {
      "cell_type": "markdown",
      "metadata": {
        "id": "fgqyfNwABQrx",
        "colab_type": "text"
      },
      "source": [
        "### Drop original columns after one hot encoding"
      ]
    },
    {
      "cell_type": "code",
      "metadata": {
        "id": "OlfXJl-OBQrx",
        "colab_type": "code",
        "colab": {}
      },
      "source": [
        "return_3year_df.shape"
      ],
      "execution_count": 0,
      "outputs": []
    },
    {
      "cell_type": "code",
      "metadata": {
        "id": "5kNLi2FaBQrz",
        "colab_type": "code",
        "colab": {}
      },
      "source": [
        "#return_3year_df.drop(labels=['3_years_return_mean_annual_category', '3yrs_sharpe_ratio_category','category_beta_3years'], axis=1,inplace=True)\n",
        "return_3year_df.shape"
      ],
      "execution_count": 0,
      "outputs": []
    },
    {
      "cell_type": "markdown",
      "metadata": {
        "id": "NQj9_JX1BQr1",
        "colab_type": "text"
      },
      "source": [
        "# return_5year_df"
      ]
    },
    {
      "cell_type": "code",
      "metadata": {
        "id": "ZFQmeHEPBQr1",
        "colab_type": "code",
        "colab": {}
      },
      "source": [
        "#return_5year_df.info()"
      ],
      "execution_count": 0,
      "outputs": []
    },
    {
      "cell_type": "code",
      "metadata": {
        "id": "IsqcUBdZBQr3",
        "colab_type": "code",
        "colab": {}
      },
      "source": [
        "#return_5year_df.describe().T"
      ],
      "execution_count": 0,
      "outputs": []
    },
    {
      "cell_type": "code",
      "metadata": {
        "id": "8ix_YFCpBQr6",
        "colab_type": "code",
        "colab": {}
      },
      "source": [
        "# Change dtype from \"object\" to \"float\"\n",
        "for col in return_5year_df.select_dtypes(include='object').columns:\n",
        "    return_5year_df[col] = return_5year_df[col].str.replace(',', '')\n",
        "    return_5year_df[col] = return_5year_df[col].astype(\"float64\")"
      ],
      "execution_count": 0,
      "outputs": []
    },
    {
      "cell_type": "code",
      "metadata": {
        "id": "muRQCUM3BQr7",
        "colab_type": "code",
        "colab": {}
      },
      "source": [
        "#Fill Nan with mean for non categorical variable\n",
        "for col in return_5year_df.columns:\n",
        "    return_5year_df[col] = return_5year_df[col].fillna(return_5year_df[col].mean())\n",
        "\n",
        "#return_5year_df.isna().sum()"
      ],
      "execution_count": 0,
      "outputs": []
    },
    {
      "cell_type": "code",
      "metadata": {
        "id": "iqHMpm24BQr9",
        "colab_type": "code",
        "colab": {}
      },
      "source": [
        "#return_5year_df.hist(figsize=(20,30))"
      ],
      "execution_count": 0,
      "outputs": []
    },
    {
      "cell_type": "markdown",
      "metadata": {
        "id": "gxPqRpT2BQr_",
        "colab_type": "text"
      },
      "source": [
        "### Apply one hot encoding"
      ]
    },
    {
      "cell_type": "code",
      "metadata": {
        "id": "x79BcfIIBQsA",
        "colab_type": "code",
        "colab": {}
      },
      "source": [
        "#annual_mean_5yr = pd.get_dummies(return_5year_df['5_years_return_mean_annual_category'], drop_first=True, prefix=\"annual_mean_5yr\")\n",
        "#sharpe_ratio_5yr = pd.get_dummies(return_5year_df['5yrs_sharpe_ratio_category'], drop_first=True, prefix=\"sharpe_ratio_5yr\")\n",
        "#beta_5yr = pd.get_dummies(return_5year_df['5_years_beta_category'],drop_first=True, prefix=\"beta_5yr\")"
      ],
      "execution_count": 0,
      "outputs": []
    },
    {
      "cell_type": "code",
      "metadata": {
        "id": "p_OJ17PrBQsC",
        "colab_type": "code",
        "colab": {}
      },
      "source": [
        "#print(\"Shape of annual_mean_5yr\", annual_mean_5yr.shape)\n",
        "#print(\"Shape of sharpe_ratio_5yr\", sharpe_ratio_5yr.shape)\n",
        "#print(\"Shape of beta_5yr\", beta_5yr.shape)"
      ],
      "execution_count": 0,
      "outputs": []
    },
    {
      "cell_type": "markdown",
      "metadata": {
        "id": "cxi-aNKsBQsE",
        "colab_type": "text"
      },
      "source": [
        "### Concat all categorical columns"
      ]
    },
    {
      "cell_type": "code",
      "metadata": {
        "id": "_p_pPgaSBQsE",
        "colab_type": "code",
        "colab": {}
      },
      "source": [
        "#return_5year_df_cat = pd.concat([annual_mean_5yr, sharpe_ratio_5yr, beta_5yr],axis=1)\n",
        "#return_5year_df_cat.shape"
      ],
      "execution_count": 0,
      "outputs": []
    },
    {
      "cell_type": "markdown",
      "metadata": {
        "id": "_oW6HLHZBQsG",
        "colab_type": "text"
      },
      "source": [
        "### Drop orginal columns after one hot encoding"
      ]
    },
    {
      "cell_type": "code",
      "metadata": {
        "id": "Jlw_EpQJBQsG",
        "colab_type": "code",
        "colab": {}
      },
      "source": [
        "return_5year_df.shape"
      ],
      "execution_count": 0,
      "outputs": []
    },
    {
      "cell_type": "code",
      "metadata": {
        "id": "o84aFrWKBQsJ",
        "colab_type": "code",
        "colab": {}
      },
      "source": [
        "#return_5year_df.drop(labels=['5_years_return_mean_annual_category', '5yrs_sharpe_ratio_category','5_years_beta_category'], axis=1, inplace=True)\n",
        "return_5year_df.shape"
      ],
      "execution_count": 0,
      "outputs": []
    },
    {
      "cell_type": "markdown",
      "metadata": {
        "id": "u-IlZKB5BQsL",
        "colab_type": "text"
      },
      "source": [
        "# return_10year_df"
      ]
    },
    {
      "cell_type": "code",
      "metadata": {
        "id": "eyjYrlaTBQsL",
        "colab_type": "code",
        "colab": {}
      },
      "source": [
        "#return_10year_df.info()"
      ],
      "execution_count": 0,
      "outputs": []
    },
    {
      "cell_type": "code",
      "metadata": {
        "id": "Pwy3O_aVBQsN",
        "colab_type": "code",
        "colab": {}
      },
      "source": [
        "#return_10year_df.describe().T"
      ],
      "execution_count": 0,
      "outputs": []
    },
    {
      "cell_type": "code",
      "metadata": {
        "id": "XE6V2fj6BQsO",
        "colab_type": "code",
        "colab": {}
      },
      "source": [
        "# Change dtype from \"object\" to \"float\"\n",
        "for col in return_10year_df.select_dtypes(include='object').columns:\n",
        "    if col != 'fund_id':\n",
        "        return_10year_df[col] = return_10year_df[col].str.replace(',', '')\n",
        "        return_10year_df[col] = return_10year_df[col].astype(\"float64\")\n",
        "\n",
        "#Fill Nan with mean for non categorical variable\n",
        "for col in return_10year_df.columns:\n",
        "    if col != 'fund_id':\n",
        "        return_10year_df[col] = return_10year_df[col].fillna(return_10year_df[col].median())\n",
        "\n",
        "#return_10year_df.isna().sum()"
      ],
      "execution_count": 0,
      "outputs": []
    },
    {
      "cell_type": "code",
      "metadata": {
        "id": "AEflfDqjBQsS",
        "colab_type": "code",
        "colab": {}
      },
      "source": [
        "#return_10year_df.hist(figsize=(20,30),bins=20)"
      ],
      "execution_count": 0,
      "outputs": []
    },
    {
      "cell_type": "markdown",
      "metadata": {
        "id": "K-FFC8mQBQsU",
        "colab_type": "text"
      },
      "source": [
        "### Apply one hot encoding"
      ]
    },
    {
      "cell_type": "code",
      "metadata": {
        "id": "gWChRMp6BQsV",
        "colab_type": "code",
        "colab": {}
      },
      "source": [
        "#annual_mean_10yr = pd.get_dummies(return_10year_df['10_years_return_mean_annual_category'],drop_first=True, prefix=\"annual_mean_10yr\")\n",
        "#sharpe_ratio_10yr = pd.get_dummies(return_10year_df['10yrs_sharpe_ratio_category'], drop_first=True, prefix=\"sharpe_ratio_10yr\")\n",
        "#beta_10yr = pd.get_dummies(return_10year_df['10_years_beta_category'],drop_first=True, prefix=\"beta_10yr\")"
      ],
      "execution_count": 0,
      "outputs": []
    },
    {
      "cell_type": "code",
      "metadata": {
        "id": "-Gkd9NyKBQsW",
        "colab_type": "code",
        "colab": {}
      },
      "source": [
        "#print(\"Shape of annual_mean_5yr\", annual_mean_10yr.shape)\n",
        "#print(\"Shape of sharpe_ratio_5yr\", sharpe_ratio_10yr.shape)\n",
        "#print(\"Shape of beta_5yr\", beta_10yr.shape)"
      ],
      "execution_count": 0,
      "outputs": []
    },
    {
      "cell_type": "markdown",
      "metadata": {
        "id": "ewXb3sidBQsY",
        "colab_type": "text"
      },
      "source": [
        "### Cancat all categorical columns"
      ]
    },
    {
      "cell_type": "code",
      "metadata": {
        "id": "kk2dfiExBQsY",
        "colab_type": "code",
        "colab": {}
      },
      "source": [
        "#return_10year_df_cat = pd.concat([annual_mean_10yr, sharpe_ratio_10yr, beta_10yr],axis=1)\n",
        "#return_10year_df_cat.shape"
      ],
      "execution_count": 0,
      "outputs": []
    },
    {
      "cell_type": "markdown",
      "metadata": {
        "id": "X4QWU6xIBQsa",
        "colab_type": "text"
      },
      "source": [
        "### Drop original columns after one hot encoding"
      ]
    },
    {
      "cell_type": "code",
      "metadata": {
        "id": "BOWTLnBIBQsa",
        "colab_type": "code",
        "colab": {}
      },
      "source": [
        "return_10year_df.shape"
      ],
      "execution_count": 0,
      "outputs": []
    },
    {
      "cell_type": "code",
      "metadata": {
        "id": "_uS9m4brBQsb",
        "colab_type": "code",
        "colab": {}
      },
      "source": [
        "#return_10year_df.drop(labels=['10_years_return_mean_annual_category', '10yrs_sharpe_ratio_category', '10_years_beta_category'], axis=1, inplace=True)\n",
        "return_10year_df.shape"
      ],
      "execution_count": 0,
      "outputs": []
    },
    {
      "cell_type": "code",
      "metadata": {
        "id": "0dkqF0qsBQsd",
        "colab_type": "code",
        "colab": {}
      },
      "source": [
        ""
      ],
      "execution_count": 0,
      "outputs": []
    },
    {
      "cell_type": "markdown",
      "metadata": {
        "id": "yhktGQa5BQse",
        "colab_type": "text"
      },
      "source": [
        "### Merge all dataframe except \"fund_config_df\" and \"return_10year_df\" dataframe on \"tag\" column"
      ]
    },
    {
      "cell_type": "code",
      "metadata": {
        "id": "3niE9tHhBQse",
        "colab_type": "code",
        "colab": {}
      },
      "source": [
        "df_list_1 = [bond_ratings_df, fund_allocations_df,  fund_ratios_df,  fund_specs_df, other_specs_df, return_3year_df, return_5year_df]"
      ],
      "execution_count": 0,
      "outputs": []
    },
    {
      "cell_type": "code",
      "metadata": {
        "id": "4lbNgcAeBQsg",
        "colab_type": "code",
        "colab": {}
      },
      "source": [
        "df_combined_on_tag = reduce(lambda  left,right: pd.merge(left,right,on=['tag'], how='outer'), df_list_1)\n",
        "df_combined_on_tag.shape"
      ],
      "execution_count": 0,
      "outputs": []
    },
    {
      "cell_type": "code",
      "metadata": {
        "id": "J8YSoLRkBQsi",
        "colab_type": "code",
        "colab": {}
      },
      "source": [
        ""
      ],
      "execution_count": 0,
      "outputs": []
    },
    {
      "cell_type": "markdown",
      "metadata": {
        "id": "ffhACPcmBQsm",
        "colab_type": "text"
      },
      "source": [
        "### Merge \"df_combined_on_tag\", \"fund_config_df\" and \"return_10year_df\" dataframe on \"fund_id\" column"
      ]
    },
    {
      "cell_type": "code",
      "metadata": {
        "id": "yp1kB0-eBQsm",
        "colab_type": "code",
        "colab": {}
      },
      "source": [
        "df_list_2 = [df_combined_on_tag, return_10year_df,  fund_config_df]"
      ],
      "execution_count": 0,
      "outputs": []
    },
    {
      "cell_type": "code",
      "metadata": {
        "id": "WqzCeAguBQso",
        "colab_type": "code",
        "colab": {}
      },
      "source": [
        "merged_df = reduce(lambda  left,right: pd.merge(left,right,on=['fund_id'], how='outer'), df_list_2)\n",
        "merged_df.shape"
      ],
      "execution_count": 0,
      "outputs": []
    },
    {
      "cell_type": "code",
      "metadata": {
        "id": "ac2y5C3yBQsp",
        "colab_type": "code",
        "colab": {}
      },
      "source": [
        "#for col in merged_df.columns:\n",
        "#    print(col)"
      ],
      "execution_count": 0,
      "outputs": []
    },
    {
      "cell_type": "code",
      "metadata": {
        "id": "PAl0GdOFBQsq",
        "colab_type": "code",
        "colab": {}
      },
      "source": [
        ""
      ],
      "execution_count": 0,
      "outputs": []
    },
    {
      "cell_type": "markdown",
      "metadata": {
        "id": "pLJIbXNIBQss",
        "colab_type": "text"
      },
      "source": [
        "## Drop duplicate columns after merging and rename"
      ]
    },
    {
      "cell_type": "code",
      "metadata": {
        "id": "L9xk6nKgBQss",
        "colab_type": "code",
        "colab": {}
      },
      "source": [
        "merged_df.drop(columns=['pb_ratio_y', 'ps_ratio_y', 'mmc_y', 'pc_ratio_y', 'pe_ratio_y', 'greatstone_rating_y', \n",
        "                        'fund_return_3years_y'],axis=1,inplace=True)"
      ],
      "execution_count": 0,
      "outputs": []
    },
    {
      "cell_type": "code",
      "metadata": {
        "id": "w-5PmBuLBQst",
        "colab_type": "code",
        "colab": {}
      },
      "source": [
        "merged_df.rename(columns={\"pb_ratio_x\":'pb_ratio', \n",
        "                          \"ps_ratio_x\":'ps_ratio', \n",
        "                          \"mmc_x\":\"mmc\",\n",
        "                          \"pc_ratio_x\":\"pc_ratio\", \n",
        "                          \"pe_ratio_x\":\"pe_ratio\", \n",
        "                          \"greatstone_rating_x\":\"greatstone_rating\",\n",
        "                          \"fund_return_3years_x\":\"fund_return_3years\"}, inplace=True)"
      ],
      "execution_count": 0,
      "outputs": []
    },
    {
      "cell_type": "code",
      "metadata": {
        "id": "H5MudwLaBQsu",
        "colab_type": "code",
        "colab": {}
      },
      "source": [
        "merged_df.shape"
      ],
      "execution_count": 0,
      "outputs": []
    },
    {
      "cell_type": "markdown",
      "metadata": {
        "id": "_AU2sCO_BQsw",
        "colab_type": "text"
      },
      "source": [
        "# Merge all categorical and numerical columns"
      ]
    },
    {
      "cell_type": "markdown",
      "metadata": {
        "id": "UM7hyRqEBQsw",
        "colab_type": "text"
      },
      "source": [
        "### All numerical columns"
      ]
    },
    {
      "cell_type": "code",
      "metadata": {
        "id": "-lx90a8TBQsw",
        "colab_type": "code",
        "colab": {}
      },
      "source": [
        "all_num_col = merged_df.columns\n",
        "len(all_num_col)"
      ],
      "execution_count": 0,
      "outputs": []
    },
    {
      "cell_type": "markdown",
      "metadata": {
        "id": "Ggcxxb2iBQsy",
        "colab_type": "text"
      },
      "source": [
        "### All categorical variable"
      ]
    },
    {
      "cell_type": "code",
      "metadata": {
        "id": "5ep9YxY2BQsy",
        "colab_type": "code",
        "colab": {}
      },
      "source": [
        "#all_cat_df = pd.concat([cat_var_encoded, return_3year_df_cat, return_5year_df_cat, return_10year_df_cat], axis=1)\n",
        "#all_cat_df = pd.concat([cat_var_encoded, fund_specs_df_cat, return_3year_df_cat, return_5year_df_cat, return_10year_df_cat], axis=1)\n",
        "\n",
        "all_cat_df = pd.concat([cat_var_encoded, fund_specs_df_cat], axis=1)\n",
        "all_cat_df.shape"
      ],
      "execution_count": 0,
      "outputs": []
    },
    {
      "cell_type": "code",
      "metadata": {
        "id": "zA_1cdfQBQs0",
        "colab_type": "code",
        "colab": {}
      },
      "source": [
        "all_cat_col = all_cat_df.columns\n",
        "len(all_cat_col)"
      ],
      "execution_count": 0,
      "outputs": []
    },
    {
      "cell_type": "markdown",
      "metadata": {
        "id": "wQKdyGhOBQs1",
        "colab_type": "text"
      },
      "source": [
        "### Merged df"
      ]
    },
    {
      "cell_type": "code",
      "metadata": {
        "id": "CZ6VagFhBQs1",
        "colab_type": "code",
        "colab": {}
      },
      "source": [
        "merged_df = pd.concat([merged_df, all_cat_df], axis=1)"
      ],
      "execution_count": 0,
      "outputs": []
    },
    {
      "cell_type": "code",
      "metadata": {
        "id": "3sVNyEMABQs3",
        "colab_type": "code",
        "colab": {}
      },
      "source": [
        "merged_df.shape"
      ],
      "execution_count": 0,
      "outputs": []
    },
    {
      "cell_type": "code",
      "metadata": {
        "id": "z9D6HmLRBQs6",
        "colab_type": "code",
        "colab": {}
      },
      "source": [
        "alphabet = string.ascii_letters+string.punctuation"
      ],
      "execution_count": 0,
      "outputs": []
    },
    {
      "cell_type": "code",
      "metadata": {
        "id": "IiL4CbVWBQs7",
        "colab_type": "code",
        "colab": {}
      },
      "source": [
        "alphabet"
      ],
      "execution_count": 0,
      "outputs": []
    },
    {
      "cell_type": "code",
      "metadata": {
        "id": "jvtf0q_gBQs_",
        "colab_type": "code",
        "colab": {}
      },
      "source": [
        "#for col in merged_df.columns:\n",
        "#    print(col,\"------\", merged_df[col].dtype)"
      ],
      "execution_count": 0,
      "outputs": []
    },
    {
      "cell_type": "markdown",
      "metadata": {
        "id": "eY12IqN5BQtA",
        "colab_type": "text"
      },
      "source": [
        "# Segregate the training & test data based on where the greatstone ratings are provided or not"
      ]
    },
    {
      "cell_type": "code",
      "metadata": {
        "id": "LAnonHP1BQtA",
        "colab_type": "code",
        "colab": {}
      },
      "source": [
        "submission_df.head()"
      ],
      "execution_count": 0,
      "outputs": []
    },
    {
      "cell_type": "markdown",
      "metadata": {
        "id": "eu_OG7VbBQtC",
        "colab_type": "text"
      },
      "source": [
        "### Perfome inner join on \"fund_id\", common data will be test data"
      ]
    },
    {
      "cell_type": "code",
      "metadata": {
        "id": "foPnI1LDBQtC",
        "colab_type": "code",
        "colab": {}
      },
      "source": [
        "Test_df = pd.merge(submission_df, merged_df, how='inner', on=['fund_id'])\n",
        "Test_df.drop(columns=['greatstone_rating_y'],axis=1, inplace=True)\n",
        "Test_df.rename(columns={'greatstone_rating_x':'greatstone_rating'},inplace=True)\n",
        "Test_df.shape"
      ],
      "execution_count": 0,
      "outputs": []
    },
    {
      "cell_type": "markdown",
      "metadata": {
        "id": "8yMwIrWIBQtE",
        "colab_type": "text"
      },
      "source": [
        "# Remove test data from merged dataframe and name that as Train_df"
      ]
    },
    {
      "cell_type": "code",
      "metadata": {
        "id": "OAh5HK_8BQtF",
        "colab_type": "code",
        "colab": {}
      },
      "source": [
        "Train_df = merged_df[~merged_df[\"fund_id\"].isin(Test_df[\"fund_id\"])]\n",
        "Train_df.shape"
      ],
      "execution_count": 0,
      "outputs": []
    },
    {
      "cell_type": "markdown",
      "metadata": {
        "id": "qm2wDFhXBQtH",
        "colab_type": "text"
      },
      "source": [
        "### Difference between test and train"
      ]
    },
    {
      "cell_type": "code",
      "metadata": {
        "id": "de4f5h2TBQtH",
        "colab_type": "code",
        "colab": {}
      },
      "source": [
        "Train_df.columns.difference(Test_df.columns)"
      ],
      "execution_count": 0,
      "outputs": []
    },
    {
      "cell_type": "markdown",
      "metadata": {
        "id": "qr8sP1VJBQtJ",
        "colab_type": "text"
      },
      "source": [
        "### Check if order of Test_df and and submission_df is same or not ?"
      ]
    },
    {
      "cell_type": "code",
      "metadata": {
        "id": "WWAx52z9BQtJ",
        "colab_type": "code",
        "colab": {}
      },
      "source": [
        "Test_df[Test_df['fund_id'] != submission_df['fund_id']]"
      ],
      "execution_count": 0,
      "outputs": []
    },
    {
      "cell_type": "markdown",
      "metadata": {
        "id": "3zDHCSRsBQtK",
        "colab_type": "text"
      },
      "source": [
        "### Copy submit_df"
      ]
    },
    {
      "cell_type": "code",
      "metadata": {
        "id": "itsTyQQHBQtK",
        "colab_type": "code",
        "colab": {}
      },
      "source": [
        "submit_df = Test_df[['fund_id', 'greatstone_rating']].copy()"
      ],
      "execution_count": 0,
      "outputs": []
    },
    {
      "cell_type": "code",
      "metadata": {
        "id": "BEgadS97BQtL",
        "colab_type": "code",
        "colab": {}
      },
      "source": [
        "submit_df.shape"
      ],
      "execution_count": 0,
      "outputs": []
    },
    {
      "cell_type": "markdown",
      "metadata": {
        "id": "3RtcPpZgBQtM",
        "colab_type": "text"
      },
      "source": [
        "### Set \"fund_id\" as index"
      ]
    },
    {
      "cell_type": "code",
      "metadata": {
        "id": "vhEB7EHxBQtN",
        "colab_type": "code",
        "colab": {}
      },
      "source": [
        "#Train_df.set_index(keys='fund_id', inplace=True)\n",
        "#Train_df.shape"
      ],
      "execution_count": 0,
      "outputs": []
    },
    {
      "cell_type": "code",
      "metadata": {
        "id": "UDmfaNbKBQtO",
        "colab_type": "code",
        "colab": {}
      },
      "source": [
        "#Test_df.set_index(keys='fund_id', inplace=True)\n",
        "#Test_df.shape"
      ],
      "execution_count": 0,
      "outputs": []
    },
    {
      "cell_type": "code",
      "metadata": {
        "id": "HU43zyWgBQtP",
        "colab_type": "code",
        "colab": {}
      },
      "source": [
        "#Test_df[Test_df['fund_id'].isin(Train_df['fund_id'])]"
      ],
      "execution_count": 0,
      "outputs": []
    },
    {
      "cell_type": "markdown",
      "metadata": {
        "id": "pIdyguS8BQtQ",
        "colab_type": "text"
      },
      "source": [
        "### Reset Train_df index"
      ]
    },
    {
      "cell_type": "code",
      "metadata": {
        "id": "0eO8bxfqBQtQ",
        "colab_type": "code",
        "colab": {}
      },
      "source": [
        "Train_df.reset_index(inplace=True,drop=True)"
      ],
      "execution_count": 0,
      "outputs": []
    },
    {
      "cell_type": "code",
      "metadata": {
        "id": "kPcra8P-BQtT",
        "colab_type": "code",
        "colab": {}
      },
      "source": [
        "Train_df.index"
      ],
      "execution_count": 0,
      "outputs": []
    },
    {
      "cell_type": "markdown",
      "metadata": {
        "id": "BGfHwJLhBQtV",
        "colab_type": "text"
      },
      "source": [
        "### Reset Test_df index"
      ]
    },
    {
      "cell_type": "code",
      "metadata": {
        "id": "byr-RZicBQtV",
        "colab_type": "code",
        "colab": {}
      },
      "source": [
        "Test_df.reset_index(inplace=True, drop=True)"
      ],
      "execution_count": 0,
      "outputs": []
    },
    {
      "cell_type": "code",
      "metadata": {
        "id": "oii-l646BQtW",
        "colab_type": "code",
        "colab": {}
      },
      "source": [
        "Test_df.index"
      ],
      "execution_count": 0,
      "outputs": []
    },
    {
      "cell_type": "markdown",
      "metadata": {
        "id": "gwcfBgvCBQtY",
        "colab_type": "text"
      },
      "source": [
        "### Seperate numerical and categorical columns"
      ]
    },
    {
      "cell_type": "code",
      "metadata": {
        "id": "S7ZJz88nBQtY",
        "colab_type": "code",
        "colab": {}
      },
      "source": [
        "Train_df_num = Train_df[all_num_col]\n",
        "Train_df_cat = Train_df[all_cat_col]"
      ],
      "execution_count": 0,
      "outputs": []
    },
    {
      "cell_type": "code",
      "metadata": {
        "id": "jlMaMWWBBQtb",
        "colab_type": "code",
        "colab": {}
      },
      "source": [
        "print(\"Train_df: \",Train_df.shape)\n",
        "print(\"Train_df_num: \",Train_df_num.shape)\n",
        "print(\"Train_df_cal: \",Train_df_cat.shape)"
      ],
      "execution_count": 0,
      "outputs": []
    },
    {
      "cell_type": "code",
      "metadata": {
        "id": "SL5sBfm_BQtd",
        "colab_type": "code",
        "colab": {}
      },
      "source": [
        "Test_df_num = Test_df[all_num_col]\n",
        "Test_df_cat = Test_df[all_cat_col]"
      ],
      "execution_count": 0,
      "outputs": []
    },
    {
      "cell_type": "code",
      "metadata": {
        "id": "1hTeu2-SBQtg",
        "colab_type": "code",
        "colab": {}
      },
      "source": [
        "print(\"Test_df: \",Test_df.shape)\n",
        "print(\"Test_df_num: \",Test_df_num.shape)\n",
        "print(\"Test_df_cat: \",Test_df_cat.shape)"
      ],
      "execution_count": 0,
      "outputs": []
    },
    {
      "cell_type": "markdown",
      "metadata": {
        "id": "JdGjb68iBQth",
        "colab_type": "text"
      },
      "source": [
        "### Drop \"fund_id\" and \"tag\" from train and test"
      ]
    },
    {
      "cell_type": "code",
      "metadata": {
        "id": "zdvChwJbBQth",
        "colab_type": "code",
        "colab": {}
      },
      "source": [
        "Train_df_num = Train_df_num.drop(['fund_id', 'tag'], axis=1)\n",
        "Test_df_num = Test_df_num.drop(['fund_id', 'tag'], axis=1)"
      ],
      "execution_count": 0,
      "outputs": []
    },
    {
      "cell_type": "code",
      "metadata": {
        "id": "0VS7PGxoBQtj",
        "colab_type": "code",
        "colab": {}
      },
      "source": [
        "print(\"Train shape after dropping: \", Train_df_num.shape)\n",
        "print(\"Test shape after dropping: \", Test_df_num.shape)"
      ],
      "execution_count": 0,
      "outputs": []
    },
    {
      "cell_type": "markdown",
      "metadata": {
        "id": "unzsCd6VBQtl",
        "colab_type": "text"
      },
      "source": [
        "# Feature Selection correlation based\n",
        "\n",
        "#### 1. Compare the correlation between features and remove one of two features having higher correlation."
      ]
    },
    {
      "cell_type": "code",
      "metadata": {
        "id": "iAgqZJoqBQtm",
        "colab_type": "code",
        "colab": {}
      },
      "source": [
        "corrmat = Train_df_num.corr()"
      ],
      "execution_count": 0,
      "outputs": []
    },
    {
      "cell_type": "code",
      "metadata": {
        "id": "8C-bRLABBQtn",
        "colab_type": "code",
        "colab": {}
      },
      "source": [
        "corrmat.shape"
      ],
      "execution_count": 0,
      "outputs": []
    },
    {
      "cell_type": "code",
      "metadata": {
        "id": "XyHQmDTJBQtp",
        "colab_type": "code",
        "colab": {}
      },
      "source": [
        "columns = np.full((corrmat.shape[0],), True, dtype=bool)\n",
        "columns"
      ],
      "execution_count": 0,
      "outputs": []
    },
    {
      "cell_type": "code",
      "metadata": {
        "id": "_26tZwFnBQtq",
        "colab_type": "code",
        "colab": {}
      },
      "source": [
        "len(columns)"
      ],
      "execution_count": 0,
      "outputs": []
    },
    {
      "cell_type": "code",
      "metadata": {
        "id": "Jdf3bwXlBQts",
        "colab_type": "code",
        "colab": {}
      },
      "source": [
        "for i in range(corrmat.shape[0]):\n",
        "    for j in range(i+1, corrmat.shape[0]):\n",
        "        if corrmat.iloc[i,j] >=0.9:\n",
        "            if columns[j]:\n",
        "                columns[j] = False\n",
        "\n",
        "# List of selected columns\n",
        "selected_columns = Train_df_num.columns[columns]\n",
        "print(\"Number of selected columns: \",len(selected_columns))"
      ],
      "execution_count": 0,
      "outputs": []
    },
    {
      "cell_type": "markdown",
      "metadata": {
        "id": "09RD30ACBQtt",
        "colab_type": "text"
      },
      "source": [
        "#### 2. Find features which are highly correlated with target columns"
      ]
    },
    {
      "cell_type": "code",
      "metadata": {
        "id": "zRVbWW6sBQtt",
        "colab_type": "code",
        "colab": {}
      },
      "source": [
        "#Train_df_num = Train_df_num[selected_columns]\n",
        "#Train_df_num.shape"
      ],
      "execution_count": 0,
      "outputs": []
    },
    {
      "cell_type": "code",
      "metadata": {
        "id": "38DCr4AZBQtu",
        "colab_type": "code",
        "colab": {}
      },
      "source": [
        "#corr_matrix = Train_df_num.corr()"
      ],
      "execution_count": 0,
      "outputs": []
    },
    {
      "cell_type": "code",
      "metadata": {
        "id": "IF5cj6f7BQtw",
        "colab_type": "code",
        "colab": {}
      },
      "source": [
        "#corr_matrix.shape"
      ],
      "execution_count": 0,
      "outputs": []
    },
    {
      "cell_type": "code",
      "metadata": {
        "id": "CJa9SiVKBQtx",
        "colab_type": "code",
        "colab": {}
      },
      "source": [
        "#Correlation with output variable\n",
        "#corr_target = abs(corr_matrix[\"greatstone_rating\"])"
      ],
      "execution_count": 0,
      "outputs": []
    },
    {
      "cell_type": "code",
      "metadata": {
        "id": "s3MyKqjRBQt1",
        "colab_type": "code",
        "colab": {}
      },
      "source": [
        "#corr_matrix[\"greatstone_rating\"] = abs(corr_matrix[\"greatstone_rating\"])"
      ],
      "execution_count": 0,
      "outputs": []
    },
    {
      "cell_type": "code",
      "metadata": {
        "id": "4t48-UKgBQt3",
        "colab_type": "code",
        "colab": {}
      },
      "source": [
        "# filter column having corr more that threshold\n",
        "#filtered_corr_mat = corr_matrix[corr_matrix[\"greatstone_rating\"] > 0.1]\n",
        "#filtered_corr_mat.shape"
      ],
      "execution_count": 0,
      "outputs": []
    },
    {
      "cell_type": "markdown",
      "metadata": {
        "id": "DH-xf0KzBQt4",
        "colab_type": "text"
      },
      "source": [
        "### List of selected columns"
      ]
    },
    {
      "cell_type": "code",
      "metadata": {
        "id": "bZ-xAqr9BQt4",
        "colab_type": "code",
        "colab": {}
      },
      "source": [
        "#filtered_corr_mat_T = filtered_corr_mat.T\n",
        "#selected_columns = filtered_corr_mat_T.columns\n",
        "#selected_columns"
      ],
      "execution_count": 0,
      "outputs": []
    },
    {
      "cell_type": "code",
      "metadata": {
        "id": "WEeQx6nrBQt5",
        "colab_type": "code",
        "colab": {}
      },
      "source": [
        ""
      ],
      "execution_count": 0,
      "outputs": []
    },
    {
      "cell_type": "markdown",
      "metadata": {
        "id": "Ayr42xjSBQt7",
        "colab_type": "text"
      },
      "source": [
        "### Create new train and test dataframe based on filtered columns "
      ]
    },
    {
      "cell_type": "code",
      "metadata": {
        "id": "L8_4z9QrBQt8",
        "colab_type": "code",
        "colab": {}
      },
      "source": [
        "Train_df_num.shape"
      ],
      "execution_count": 0,
      "outputs": []
    },
    {
      "cell_type": "code",
      "metadata": {
        "id": "WfLE-7MOBQt-",
        "colab_type": "code",
        "colab": {}
      },
      "source": [
        "Train_df_num = Train_df_num[selected_columns]\n",
        "Train_df_num.shape"
      ],
      "execution_count": 0,
      "outputs": []
    },
    {
      "cell_type": "code",
      "metadata": {
        "id": "eWu0svnMBQt_",
        "colab_type": "code",
        "colab": {}
      },
      "source": [
        "Test_df_num = Test_df_num[selected_columns]\n",
        "Test_df_num.shape"
      ],
      "execution_count": 0,
      "outputs": []
    },
    {
      "cell_type": "code",
      "metadata": {
        "id": "NlAA_5IEBQuA",
        "colab_type": "code",
        "colab": {}
      },
      "source": [
        ""
      ],
      "execution_count": 0,
      "outputs": []
    },
    {
      "cell_type": "markdown",
      "metadata": {
        "id": "tsqBg6GPBQuB",
        "colab_type": "text"
      },
      "source": [
        "## Get X_train, Y_train and X_test  "
      ]
    },
    {
      "cell_type": "code",
      "metadata": {
        "id": "os7QoP-UBQuC",
        "colab_type": "code",
        "colab": {}
      },
      "source": [
        "## X_train and Y_train\n",
        "#X_train_full = Train_df_filter.drop(columns='greatstone_rating', axis=1)\n",
        "#Y_train_full = Train_df_filter['greatstone_rating'].values\n",
        "\n",
        "X_train = Train_df_num.drop(columns='greatstone_rating', axis=1)\n",
        "Y_train = Train_df_num['greatstone_rating'].values"
      ],
      "execution_count": 0,
      "outputs": []
    },
    {
      "cell_type": "code",
      "metadata": {
        "id": "KmpJPrCuBQuC",
        "colab_type": "code",
        "colab": {}
      },
      "source": [
        "print(\"Full Training data shape: \", X_train.shape, Y_train.shape)"
      ],
      "execution_count": 0,
      "outputs": []
    },
    {
      "cell_type": "code",
      "metadata": {
        "id": "3zHnEAK5BQuF",
        "colab_type": "code",
        "colab": {}
      },
      "source": [
        "#X_test_full = Test_df_filter.drop(columns=['greatstone_rating'], axis=1)\n",
        "\n",
        "X_test = Test_df_num.drop(columns=['greatstone_rating'], axis=1)\n",
        "print(\"Full Test data: \",X_test.shape)"
      ],
      "execution_count": 0,
      "outputs": []
    },
    {
      "cell_type": "code",
      "metadata": {
        "id": "sIiWjxOkcNK8",
        "colab_type": "code",
        "colab": {}
      },
      "source": [
        ""
      ],
      "execution_count": 0,
      "outputs": []
    },
    {
      "cell_type": "markdown",
      "metadata": {
        "id": "Gbi-YjqyBQuG",
        "colab_type": "text"
      },
      "source": [
        "### Data imbalance"
      ]
    },
    {
      "cell_type": "code",
      "metadata": {
        "id": "A8rt_4mPBQuG",
        "colab_type": "code",
        "colab": {}
      },
      "source": [
        "class_0 = np.count_nonzero(Y_train == 0.0)\n",
        "class_1 = np.count_nonzero(Y_train == 1.0)\n",
        "class_2 = np.count_nonzero(Y_train == 2.0)\n",
        "class_3 = np.count_nonzero(Y_train == 3.0)\n",
        "class_4 = np.count_nonzero(Y_train == 4.0)\n",
        "class_5 = np.count_nonzero(Y_train == 5.0)\n",
        "\n",
        "print(\"Number data for each class: \")\n",
        "print(\"class_0: \",class_0)\n",
        "print(\"class_1: \",class_1)\n",
        "print(\"class_2: \",class_2)\n",
        "print(\"class_3: \",class_3)\n",
        "print(\"class_4: \",class_4)\n",
        "print(\"class_5: \",class_5)"
      ],
      "execution_count": 0,
      "outputs": []
    },
    {
      "cell_type": "code",
      "metadata": {
        "id": "tJ9el_BJBQuI",
        "colab_type": "code",
        "colab": {}
      },
      "source": [
        "#from imblearn.over_sampling import SMOTE\n",
        "#smote = SMOTE()\n",
        "#X_train, Y_train = smote.fit_sample(X_train, Y_train)\n",
        "#print(\"Training length after smote: \", len(X_train), len(Y_train))"
      ],
      "execution_count": 0,
      "outputs": []
    },
    {
      "cell_type": "code",
      "metadata": {
        "id": "Fu1cDqz8BQuK",
        "colab_type": "code",
        "colab": {}
      },
      "source": [
        "class_0 = np.count_nonzero(Y_train == 0.0)\n",
        "class_1 = np.count_nonzero(Y_train == 1.0)\n",
        "class_2 = np.count_nonzero(Y_train == 2.0)\n",
        "class_3 = np.count_nonzero(Y_train == 3.0)\n",
        "class_4 = np.count_nonzero(Y_train == 4.0)\n",
        "class_5 = np.count_nonzero(Y_train == 5.0)\n",
        "\n",
        "print(\"Number data for each class: \")\n",
        "print(\"class_0: \",class_0)\n",
        "print(\"class_1: \",class_1)\n",
        "print(\"class_2: \",class_2)\n",
        "print(\"class_3: \",class_3)\n",
        "print(\"class_4: \",class_4)\n",
        "print(\"class_5: \",class_5)"
      ],
      "execution_count": 0,
      "outputs": []
    },
    {
      "cell_type": "markdown",
      "metadata": {
        "id": "PaipVmxUBQuL",
        "colab_type": "text"
      },
      "source": [
        "### Apply standar scalar on full train and test data"
      ]
    },
    {
      "cell_type": "code",
      "metadata": {
        "id": "o77a_8u-BQuL",
        "colab_type": "code",
        "colab": {}
      },
      "source": [
        "# StandardScaler\n",
        "std_scaler = StandardScaler()\n",
        "\n",
        "std_scaler.fit(X_train)\n",
        "\n",
        "X_train_scaled = std_scaler.transform(X_train)\n",
        "X_test_scaled = std_scaler.transform(X_test)"
      ],
      "execution_count": 0,
      "outputs": []
    },
    {
      "cell_type": "code",
      "metadata": {
        "id": "9r6eKTliBQuM",
        "colab_type": "code",
        "colab": {}
      },
      "source": [
        "print(\"X_train_scaled shape: \", X_train_scaled.shape)\n",
        "print(\"X_test_scaled shape: \", X_test_scaled.shape)"
      ],
      "execution_count": 0,
      "outputs": []
    },
    {
      "cell_type": "markdown",
      "metadata": {
        "id": "V-OTKLPeBQuN",
        "colab_type": "text"
      },
      "source": [
        "### Concat all numerical and categorical columns"
      ]
    },
    {
      "cell_type": "code",
      "metadata": {
        "id": "WyS9O4eHBQuO",
        "colab_type": "code",
        "colab": {}
      },
      "source": [
        "X_train_scaled = pd.DataFrame(X_train_scaled)\n",
        "X_test_scaled = pd.DataFrame(X_test_scaled)"
      ],
      "execution_count": 0,
      "outputs": []
    },
    {
      "cell_type": "markdown",
      "metadata": {
        "id": "nZcAfxYdBQuO",
        "colab_type": "text"
      },
      "source": [
        "#### X_train_scaled combined with categorical features"
      ]
    },
    {
      "cell_type": "code",
      "metadata": {
        "id": "HoVxkYw9BQuO",
        "colab_type": "code",
        "colab": {}
      },
      "source": [
        "X_train_scaled = pd.concat([X_train_scaled, Train_df_cat],axis=1)\n",
        "X_train_scaled.shape"
      ],
      "execution_count": 0,
      "outputs": []
    },
    {
      "cell_type": "markdown",
      "metadata": {
        "id": "QnqrwqxHBQuQ",
        "colab_type": "text"
      },
      "source": [
        "#### X_test_scaled combined with categorical features"
      ]
    },
    {
      "cell_type": "code",
      "metadata": {
        "id": "61zGSgwnBQuQ",
        "colab_type": "code",
        "colab": {}
      },
      "source": [
        "X_test_scaled = pd.concat([X_test_scaled, Test_df_cat],axis=1)\n",
        "X_test_scaled.shape"
      ],
      "execution_count": 0,
      "outputs": []
    },
    {
      "cell_type": "markdown",
      "metadata": {
        "id": "i7I15slYBQuS",
        "colab_type": "text"
      },
      "source": [
        "## Apply PCA"
      ]
    },
    {
      "cell_type": "code",
      "metadata": {
        "id": "8fTxJnBtBQuS",
        "colab_type": "code",
        "colab": {}
      },
      "source": [
        "#pca = PCA(n_components=0.90)\n",
        "#pca.fit(X_train_scaled)"
      ],
      "execution_count": 0,
      "outputs": []
    },
    {
      "cell_type": "code",
      "metadata": {
        "id": "-vc8itg1BQuT",
        "colab_type": "code",
        "colab": {}
      },
      "source": [
        "#pca.explained_variance_ratio_"
      ],
      "execution_count": 0,
      "outputs": []
    },
    {
      "cell_type": "code",
      "metadata": {
        "id": "-tfC2CBQBQuU",
        "colab_type": "code",
        "colab": {}
      },
      "source": [
        "#len(pca.explained_variance_ratio_)"
      ],
      "execution_count": 0,
      "outputs": []
    },
    {
      "cell_type": "code",
      "metadata": {
        "id": "vpiY9oo3BQuW",
        "colab_type": "code",
        "colab": {}
      },
      "source": [
        "#X_train_pca = pca.transform(X_train_scaled)\n",
        "#X_test_pca = pca.transform(X_test_scaled)"
      ],
      "execution_count": 0,
      "outputs": []
    },
    {
      "cell_type": "code",
      "metadata": {
        "id": "zvSv_td9BQuX",
        "colab_type": "code",
        "colab": {}
      },
      "source": [
        "#print(\"X_train_pca Shape: \",X_train_pca.shape)\n",
        "#print(\"X_test_pca Shape: \",X_test_pca.shape)"
      ],
      "execution_count": 0,
      "outputs": []
    },
    {
      "cell_type": "markdown",
      "metadata": {
        "id": "JKijEL3xBQuY",
        "colab_type": "text"
      },
      "source": [
        "# XGBClassifier"
      ]
    },
    {
      "cell_type": "code",
      "metadata": {
        "id": "CgVQGUAzBQuY",
        "colab_type": "code",
        "colab": {}
      },
      "source": [
        "#(n_estimators=100, max_depth=8, learning_rate=0.1, subsample=0.5)"
      ],
      "execution_count": 0,
      "outputs": []
    },
    {
      "cell_type": "code",
      "metadata": {
        "id": "lZmuVFesBQuZ",
        "colab_type": "code",
        "colab": {}
      },
      "source": [
        "#try with 600,500,400,300..."
      ],
      "execution_count": 0,
      "outputs": []
    },
    {
      "cell_type": "code",
      "metadata": {
        "id": "G4IXcVFrBQua",
        "colab_type": "code",
        "colab": {}
      },
      "source": [
        "Classifier = xgb.XGBClassifier(n_estimators=800, max_depth=12, learning_rate=0.01,subsample=0.5, objective='multi:softmax', random_state=0, verbosity=2)\n",
        "\n",
        "Classifier.fit(X_train_scaled, Y_train)\n",
        "#Classifier.fit(X_train_pca, Y_train)"
      ],
      "execution_count": 0,
      "outputs": []
    },
    {
      "cell_type": "markdown",
      "metadata": {
        "id": "yGplJ9v4BQuj",
        "colab_type": "text"
      },
      "source": [
        "## Training Score"
      ]
    },
    {
      "cell_type": "code",
      "metadata": {
        "id": "xKMPPO-hBQuk",
        "colab_type": "code",
        "colab": {}
      },
      "source": [
        "score = Classifier.score(X_train_scaled, Y_train)\n",
        "\n",
        "#score = Classifier.score(X_train_pca, Y_train)\n",
        "print(\"Training score: \",score)"
      ],
      "execution_count": 0,
      "outputs": []
    },
    {
      "cell_type": "markdown",
      "metadata": {
        "id": "Zu6kDCizBQul",
        "colab_type": "text"
      },
      "source": [
        "### Prediction"
      ]
    },
    {
      "cell_type": "code",
      "metadata": {
        "id": "hqy4y6tZBQul",
        "colab_type": "code",
        "colab": {}
      },
      "source": [
        "Y_pred2 = Classifier.predict(X_test_scaled)\n",
        "#Y_pred2 = Classifier.predict(X_test_pca)\n",
        "Y_pred2"
      ],
      "execution_count": 0,
      "outputs": []
    },
    {
      "cell_type": "code",
      "metadata": {
        "id": "SJLVAt-zBQun",
        "colab_type": "code",
        "colab": {}
      },
      "source": [
        "submit_df['greatstone_rating'] = Y_pred2"
      ],
      "execution_count": 0,
      "outputs": []
    },
    {
      "cell_type": "code",
      "metadata": {
        "id": "GH2irJxYBQur",
        "colab_type": "code",
        "colab": {}
      },
      "source": [
        "submit_df.head()"
      ],
      "execution_count": 0,
      "outputs": []
    },
    {
      "cell_type": "code",
      "metadata": {
        "id": "44-CtqSKBQus",
        "colab_type": "code",
        "colab": {}
      },
      "source": [
        "submit_df.set_index(keys='fund_id',inplace=True)"
      ],
      "execution_count": 0,
      "outputs": []
    },
    {
      "cell_type": "code",
      "metadata": {
        "id": "tNB6Pq_3C0eQ",
        "colab_type": "code",
        "colab": {}
      },
      "source": [
        "!rm submission_1.csv"
      ],
      "execution_count": 0,
      "outputs": []
    },
    {
      "cell_type": "code",
      "metadata": {
        "id": "sEnfCCYcBQuv",
        "colab_type": "code",
        "colab": {}
      },
      "source": [
        "submit_df.to_csv(\"submission_1.csv\")"
      ],
      "execution_count": 0,
      "outputs": []
    },
    {
      "cell_type": "code",
      "metadata": {
        "id": "a2nWFG4_BQux",
        "colab_type": "code",
        "colab": {}
      },
      "source": [
        "!ls"
      ],
      "execution_count": 0,
      "outputs": []
    },
    {
      "cell_type": "code",
      "metadata": {
        "id": "qYaRiXbuBQu1",
        "colab_type": "code",
        "colab": {}
      },
      "source": [
        "from google.colab import files\n",
        "files.download(\"submission_1.csv\")"
      ],
      "execution_count": 0,
      "outputs": []
    },
    {
      "cell_type": "code",
      "metadata": {
        "id": "v2-sAyOpHfud",
        "colab_type": "code",
        "colab": {}
      },
      "source": [
        ""
      ],
      "execution_count": 0,
      "outputs": []
    }
  ]
}